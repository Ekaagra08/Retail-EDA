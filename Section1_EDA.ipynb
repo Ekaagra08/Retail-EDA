{
  "nbformat": 4,
  "nbformat_minor": 0,
  "metadata": {
    "colab": {
      "name": "Section1_EDA.ipynb",
      "provenance": [],
      "collapsed_sections": [
        "N631_iNGaXpf"
      ],
      "mount_file_id": "1YvNr1Wh21CcTXLIMn_JzlUn6nEAG9zfY",
      "authorship_tag": "ABX9TyNqbK3xNVQoHmFAXRQKL089",
      "include_colab_link": true
    },
    "kernelspec": {
      "name": "python3",
      "display_name": "Python 3"
    },
    "language_info": {
      "name": "python"
    },
    "accelerator": "GPU"
  },
  "cells": [
    {
      "cell_type": "markdown",
      "metadata": {
        "id": "view-in-github",
        "colab_type": "text"
      },
      "source": [
        "<a href=\"https://colab.research.google.com/github/Ekaagra08/Retail-EDA/blob/main/Section1_EDA.ipynb\" target=\"_parent\"><img src=\"https://colab.research.google.com/assets/colab-badge.svg\" alt=\"Open In Colab\"/></a>"
      ]
    },
    {
      "cell_type": "markdown",
      "metadata": {
        "id": "Q6zX4I1X_V-8"
      },
      "source": [
        "# Importing Libraries"
      ]
    },
    {
      "cell_type": "code",
      "metadata": {
        "id": "DxxWs1Ab5heH"
      },
      "source": [
        "import pandas as pd\n",
        "import numpy as np\n",
        "import seaborn as sns\n",
        "import matplotlib.pyplot as plt\n",
        "import datetime"
      ],
      "execution_count": null,
      "outputs": []
    },
    {
      "cell_type": "markdown",
      "metadata": {
        "id": "icjbJYan_C2Y"
      },
      "source": [
        "# Loading Dataset"
      ]
    },
    {
      "cell_type": "code",
      "metadata": {
        "id": "YvUp-5ZHFcYM"
      },
      "source": [
        "df=pd.concat(pd.read_excel(\"/content/drive/MyDrive/RetailPulse_assignment/Section1/RetailPulseAssignmentData.xlsx\",sheet_name=None), ignore_index=True)"
      ],
      "execution_count": null,
      "outputs": []
    },
    {
      "cell_type": "markdown",
      "metadata": {
        "id": "CHVrikoB_oTa"
      },
      "source": [
        "# Data Exploration"
      ]
    },
    {
      "cell_type": "code",
      "metadata": {
        "colab": {
          "base_uri": "https://localhost:8080/",
          "height": 423
        },
        "id": "WunuN-jNFgrE",
        "outputId": "df49e364-73b7-4f94-a439-76222ce43b8b"
      },
      "source": [
        "df"
      ],
      "execution_count": null,
      "outputs": [
        {
          "output_type": "execute_result",
          "data": {
            "text/html": [
              "<div>\n",
              "<style scoped>\n",
              "    .dataframe tbody tr th:only-of-type {\n",
              "        vertical-align: middle;\n",
              "    }\n",
              "\n",
              "    .dataframe tbody tr th {\n",
              "        vertical-align: top;\n",
              "    }\n",
              "\n",
              "    .dataframe thead th {\n",
              "        text-align: right;\n",
              "    }\n",
              "</style>\n",
              "<table border=\"1\" class=\"dataframe\">\n",
              "  <thead>\n",
              "    <tr style=\"text-align: right;\">\n",
              "      <th></th>\n",
              "      <th>Invoice</th>\n",
              "      <th>StockCode</th>\n",
              "      <th>Description</th>\n",
              "      <th>Quantity</th>\n",
              "      <th>InvoiceDate</th>\n",
              "      <th>Price</th>\n",
              "      <th>Customer ID</th>\n",
              "      <th>Country</th>\n",
              "    </tr>\n",
              "  </thead>\n",
              "  <tbody>\n",
              "    <tr>\n",
              "      <th>0</th>\n",
              "      <td>489434</td>\n",
              "      <td>85048</td>\n",
              "      <td>15CM CHRISTMAS GLASS BALL 20 LIGHTS</td>\n",
              "      <td>12</td>\n",
              "      <td>2009-12-01 07:45:00</td>\n",
              "      <td>6.95</td>\n",
              "      <td>13085.0</td>\n",
              "      <td>United Kingdom</td>\n",
              "    </tr>\n",
              "    <tr>\n",
              "      <th>1</th>\n",
              "      <td>489434</td>\n",
              "      <td>79323P</td>\n",
              "      <td>PINK CHERRY LIGHTS</td>\n",
              "      <td>12</td>\n",
              "      <td>2009-12-01 07:45:00</td>\n",
              "      <td>6.75</td>\n",
              "      <td>13085.0</td>\n",
              "      <td>United Kingdom</td>\n",
              "    </tr>\n",
              "    <tr>\n",
              "      <th>2</th>\n",
              "      <td>489434</td>\n",
              "      <td>79323W</td>\n",
              "      <td>WHITE CHERRY LIGHTS</td>\n",
              "      <td>12</td>\n",
              "      <td>2009-12-01 07:45:00</td>\n",
              "      <td>6.75</td>\n",
              "      <td>13085.0</td>\n",
              "      <td>United Kingdom</td>\n",
              "    </tr>\n",
              "    <tr>\n",
              "      <th>3</th>\n",
              "      <td>489434</td>\n",
              "      <td>22041</td>\n",
              "      <td>RECORD FRAME 7\" SINGLE SIZE</td>\n",
              "      <td>48</td>\n",
              "      <td>2009-12-01 07:45:00</td>\n",
              "      <td>2.10</td>\n",
              "      <td>13085.0</td>\n",
              "      <td>United Kingdom</td>\n",
              "    </tr>\n",
              "    <tr>\n",
              "      <th>4</th>\n",
              "      <td>489434</td>\n",
              "      <td>21232</td>\n",
              "      <td>STRAWBERRY CERAMIC TRINKET BOX</td>\n",
              "      <td>24</td>\n",
              "      <td>2009-12-01 07:45:00</td>\n",
              "      <td>1.25</td>\n",
              "      <td>13085.0</td>\n",
              "      <td>United Kingdom</td>\n",
              "    </tr>\n",
              "    <tr>\n",
              "      <th>...</th>\n",
              "      <td>...</td>\n",
              "      <td>...</td>\n",
              "      <td>...</td>\n",
              "      <td>...</td>\n",
              "      <td>...</td>\n",
              "      <td>...</td>\n",
              "      <td>...</td>\n",
              "      <td>...</td>\n",
              "    </tr>\n",
              "    <tr>\n",
              "      <th>1067366</th>\n",
              "      <td>581587</td>\n",
              "      <td>22899</td>\n",
              "      <td>CHILDREN'S APRON DOLLY GIRL</td>\n",
              "      <td>6</td>\n",
              "      <td>2011-12-09 12:50:00</td>\n",
              "      <td>2.10</td>\n",
              "      <td>12680.0</td>\n",
              "      <td>France</td>\n",
              "    </tr>\n",
              "    <tr>\n",
              "      <th>1067367</th>\n",
              "      <td>581587</td>\n",
              "      <td>23254</td>\n",
              "      <td>CHILDRENS CUTLERY DOLLY GIRL</td>\n",
              "      <td>4</td>\n",
              "      <td>2011-12-09 12:50:00</td>\n",
              "      <td>4.15</td>\n",
              "      <td>12680.0</td>\n",
              "      <td>France</td>\n",
              "    </tr>\n",
              "    <tr>\n",
              "      <th>1067368</th>\n",
              "      <td>581587</td>\n",
              "      <td>23255</td>\n",
              "      <td>CHILDRENS CUTLERY CIRCUS PARADE</td>\n",
              "      <td>4</td>\n",
              "      <td>2011-12-09 12:50:00</td>\n",
              "      <td>4.15</td>\n",
              "      <td>12680.0</td>\n",
              "      <td>France</td>\n",
              "    </tr>\n",
              "    <tr>\n",
              "      <th>1067369</th>\n",
              "      <td>581587</td>\n",
              "      <td>22138</td>\n",
              "      <td>BAKING SET 9 PIECE RETROSPOT</td>\n",
              "      <td>3</td>\n",
              "      <td>2011-12-09 12:50:00</td>\n",
              "      <td>4.95</td>\n",
              "      <td>12680.0</td>\n",
              "      <td>France</td>\n",
              "    </tr>\n",
              "    <tr>\n",
              "      <th>1067370</th>\n",
              "      <td>581587</td>\n",
              "      <td>POST</td>\n",
              "      <td>POSTAGE</td>\n",
              "      <td>1</td>\n",
              "      <td>2011-12-09 12:50:00</td>\n",
              "      <td>18.00</td>\n",
              "      <td>12680.0</td>\n",
              "      <td>France</td>\n",
              "    </tr>\n",
              "  </tbody>\n",
              "</table>\n",
              "<p>1067371 rows × 8 columns</p>\n",
              "</div>"
            ],
            "text/plain": [
              "        Invoice StockCode  ... Customer ID         Country\n",
              "0        489434     85048  ...     13085.0  United Kingdom\n",
              "1        489434    79323P  ...     13085.0  United Kingdom\n",
              "2        489434    79323W  ...     13085.0  United Kingdom\n",
              "3        489434     22041  ...     13085.0  United Kingdom\n",
              "4        489434     21232  ...     13085.0  United Kingdom\n",
              "...         ...       ...  ...         ...             ...\n",
              "1067366  581587     22899  ...     12680.0          France\n",
              "1067367  581587     23254  ...     12680.0          France\n",
              "1067368  581587     23255  ...     12680.0          France\n",
              "1067369  581587     22138  ...     12680.0          France\n",
              "1067370  581587      POST  ...     12680.0          France\n",
              "\n",
              "[1067371 rows x 8 columns]"
            ]
          },
          "metadata": {},
          "execution_count": 4
        }
      ]
    },
    {
      "cell_type": "code",
      "metadata": {
        "colab": {
          "base_uri": "https://localhost:8080/",
          "height": 423
        },
        "id": "4VBsWfd6Trfv",
        "outputId": "b82caf42-8454-4419-ac3c-4412cb1a50dc"
      },
      "source": [
        "# Adding new column Total_price\n",
        "df['Total_Price']= df.Price * df.Quantity\n",
        "# dividing DateTime into multiple columns\n",
        "df['Inv_Month'] = df['InvoiceDate'].dt.month \n",
        "df['Inv_Weekday'] = df['InvoiceDate'].dt.weekday \n",
        "df['Inv_Hour'] = df['InvoiceDate'].dt.hour\n",
        "#df.drop(['InvoiceDate'], inplace=True, axis=1)\n",
        "df"
      ],
      "execution_count": null,
      "outputs": [
        {
          "output_type": "execute_result",
          "data": {
            "text/html": [
              "<div>\n",
              "<style scoped>\n",
              "    .dataframe tbody tr th:only-of-type {\n",
              "        vertical-align: middle;\n",
              "    }\n",
              "\n",
              "    .dataframe tbody tr th {\n",
              "        vertical-align: top;\n",
              "    }\n",
              "\n",
              "    .dataframe thead th {\n",
              "        text-align: right;\n",
              "    }\n",
              "</style>\n",
              "<table border=\"1\" class=\"dataframe\">\n",
              "  <thead>\n",
              "    <tr style=\"text-align: right;\">\n",
              "      <th></th>\n",
              "      <th>Invoice</th>\n",
              "      <th>StockCode</th>\n",
              "      <th>Description</th>\n",
              "      <th>Quantity</th>\n",
              "      <th>InvoiceDate</th>\n",
              "      <th>Price</th>\n",
              "      <th>Customer ID</th>\n",
              "      <th>Country</th>\n",
              "      <th>Total_Price</th>\n",
              "      <th>Inv_Month</th>\n",
              "      <th>Inv_Weekday</th>\n",
              "      <th>Inv_Hour</th>\n",
              "    </tr>\n",
              "  </thead>\n",
              "  <tbody>\n",
              "    <tr>\n",
              "      <th>0</th>\n",
              "      <td>489434</td>\n",
              "      <td>85048</td>\n",
              "      <td>15CM CHRISTMAS GLASS BALL 20 LIGHTS</td>\n",
              "      <td>12</td>\n",
              "      <td>2009-12-01 07:45:00</td>\n",
              "      <td>6.95</td>\n",
              "      <td>13085.0</td>\n",
              "      <td>United Kingdom</td>\n",
              "      <td>83.40</td>\n",
              "      <td>12</td>\n",
              "      <td>1</td>\n",
              "      <td>7</td>\n",
              "    </tr>\n",
              "    <tr>\n",
              "      <th>1</th>\n",
              "      <td>489434</td>\n",
              "      <td>79323P</td>\n",
              "      <td>PINK CHERRY LIGHTS</td>\n",
              "      <td>12</td>\n",
              "      <td>2009-12-01 07:45:00</td>\n",
              "      <td>6.75</td>\n",
              "      <td>13085.0</td>\n",
              "      <td>United Kingdom</td>\n",
              "      <td>81.00</td>\n",
              "      <td>12</td>\n",
              "      <td>1</td>\n",
              "      <td>7</td>\n",
              "    </tr>\n",
              "    <tr>\n",
              "      <th>2</th>\n",
              "      <td>489434</td>\n",
              "      <td>79323W</td>\n",
              "      <td>WHITE CHERRY LIGHTS</td>\n",
              "      <td>12</td>\n",
              "      <td>2009-12-01 07:45:00</td>\n",
              "      <td>6.75</td>\n",
              "      <td>13085.0</td>\n",
              "      <td>United Kingdom</td>\n",
              "      <td>81.00</td>\n",
              "      <td>12</td>\n",
              "      <td>1</td>\n",
              "      <td>7</td>\n",
              "    </tr>\n",
              "    <tr>\n",
              "      <th>3</th>\n",
              "      <td>489434</td>\n",
              "      <td>22041</td>\n",
              "      <td>RECORD FRAME 7\" SINGLE SIZE</td>\n",
              "      <td>48</td>\n",
              "      <td>2009-12-01 07:45:00</td>\n",
              "      <td>2.10</td>\n",
              "      <td>13085.0</td>\n",
              "      <td>United Kingdom</td>\n",
              "      <td>100.80</td>\n",
              "      <td>12</td>\n",
              "      <td>1</td>\n",
              "      <td>7</td>\n",
              "    </tr>\n",
              "    <tr>\n",
              "      <th>4</th>\n",
              "      <td>489434</td>\n",
              "      <td>21232</td>\n",
              "      <td>STRAWBERRY CERAMIC TRINKET BOX</td>\n",
              "      <td>24</td>\n",
              "      <td>2009-12-01 07:45:00</td>\n",
              "      <td>1.25</td>\n",
              "      <td>13085.0</td>\n",
              "      <td>United Kingdom</td>\n",
              "      <td>30.00</td>\n",
              "      <td>12</td>\n",
              "      <td>1</td>\n",
              "      <td>7</td>\n",
              "    </tr>\n",
              "    <tr>\n",
              "      <th>...</th>\n",
              "      <td>...</td>\n",
              "      <td>...</td>\n",
              "      <td>...</td>\n",
              "      <td>...</td>\n",
              "      <td>...</td>\n",
              "      <td>...</td>\n",
              "      <td>...</td>\n",
              "      <td>...</td>\n",
              "      <td>...</td>\n",
              "      <td>...</td>\n",
              "      <td>...</td>\n",
              "      <td>...</td>\n",
              "    </tr>\n",
              "    <tr>\n",
              "      <th>1067366</th>\n",
              "      <td>581587</td>\n",
              "      <td>22899</td>\n",
              "      <td>CHILDREN'S APRON DOLLY GIRL</td>\n",
              "      <td>6</td>\n",
              "      <td>2011-12-09 12:50:00</td>\n",
              "      <td>2.10</td>\n",
              "      <td>12680.0</td>\n",
              "      <td>France</td>\n",
              "      <td>12.60</td>\n",
              "      <td>12</td>\n",
              "      <td>4</td>\n",
              "      <td>12</td>\n",
              "    </tr>\n",
              "    <tr>\n",
              "      <th>1067367</th>\n",
              "      <td>581587</td>\n",
              "      <td>23254</td>\n",
              "      <td>CHILDRENS CUTLERY DOLLY GIRL</td>\n",
              "      <td>4</td>\n",
              "      <td>2011-12-09 12:50:00</td>\n",
              "      <td>4.15</td>\n",
              "      <td>12680.0</td>\n",
              "      <td>France</td>\n",
              "      <td>16.60</td>\n",
              "      <td>12</td>\n",
              "      <td>4</td>\n",
              "      <td>12</td>\n",
              "    </tr>\n",
              "    <tr>\n",
              "      <th>1067368</th>\n",
              "      <td>581587</td>\n",
              "      <td>23255</td>\n",
              "      <td>CHILDRENS CUTLERY CIRCUS PARADE</td>\n",
              "      <td>4</td>\n",
              "      <td>2011-12-09 12:50:00</td>\n",
              "      <td>4.15</td>\n",
              "      <td>12680.0</td>\n",
              "      <td>France</td>\n",
              "      <td>16.60</td>\n",
              "      <td>12</td>\n",
              "      <td>4</td>\n",
              "      <td>12</td>\n",
              "    </tr>\n",
              "    <tr>\n",
              "      <th>1067369</th>\n",
              "      <td>581587</td>\n",
              "      <td>22138</td>\n",
              "      <td>BAKING SET 9 PIECE RETROSPOT</td>\n",
              "      <td>3</td>\n",
              "      <td>2011-12-09 12:50:00</td>\n",
              "      <td>4.95</td>\n",
              "      <td>12680.0</td>\n",
              "      <td>France</td>\n",
              "      <td>14.85</td>\n",
              "      <td>12</td>\n",
              "      <td>4</td>\n",
              "      <td>12</td>\n",
              "    </tr>\n",
              "    <tr>\n",
              "      <th>1067370</th>\n",
              "      <td>581587</td>\n",
              "      <td>POST</td>\n",
              "      <td>POSTAGE</td>\n",
              "      <td>1</td>\n",
              "      <td>2011-12-09 12:50:00</td>\n",
              "      <td>18.00</td>\n",
              "      <td>12680.0</td>\n",
              "      <td>France</td>\n",
              "      <td>18.00</td>\n",
              "      <td>12</td>\n",
              "      <td>4</td>\n",
              "      <td>12</td>\n",
              "    </tr>\n",
              "  </tbody>\n",
              "</table>\n",
              "<p>1067371 rows × 12 columns</p>\n",
              "</div>"
            ],
            "text/plain": [
              "        Invoice StockCode  ... Inv_Weekday  Inv_Hour\n",
              "0        489434     85048  ...           1         7\n",
              "1        489434    79323P  ...           1         7\n",
              "2        489434    79323W  ...           1         7\n",
              "3        489434     22041  ...           1         7\n",
              "4        489434     21232  ...           1         7\n",
              "...         ...       ...  ...         ...       ...\n",
              "1067366  581587     22899  ...           4        12\n",
              "1067367  581587     23254  ...           4        12\n",
              "1067368  581587     23255  ...           4        12\n",
              "1067369  581587     22138  ...           4        12\n",
              "1067370  581587      POST  ...           4        12\n",
              "\n",
              "[1067371 rows x 12 columns]"
            ]
          },
          "metadata": {},
          "execution_count": 5
        }
      ]
    },
    {
      "cell_type": "markdown",
      "metadata": {
        "id": "_QQBXFK8BFyg"
      },
      "source": [
        "# Dataset sumary"
      ]
    },
    {
      "cell_type": "markdown",
      "metadata": {
        "id": "XkTCcd9RZiNR"
      },
      "source": [
        "## Some Basic Attributes Info:\n",
        "* **Invoice :** Invoice ID.\n",
        "* **StockCode :** Product identification code.\n",
        "* **Description :** Product name or activity performed with the product.\n",
        "* **Quantity :** Quantity of each product returned or purchased.\n",
        "* **InvoiceDate\t :** Date of bill (can be purchase or return).\n",
        "* **Price :** Price of each item.\n",
        "* **Customer ID\t :** Customer identification code.\n",
        "* **Country\t :** Country from where purchase or return was made.\n",
        "* **Total_Price  :** Total price of similar items.\n",
        "\n"
      ]
    },
    {
      "cell_type": "markdown",
      "metadata": {
        "id": "OXSqAENYx1NB"
      },
      "source": [
        "## Dataset Info:\n",
        "\n",
        "**StockCode** (Attribute)\n",
        "* 'TEST00(n)' : [description] -> Test sample \n",
        "* 'POST'      : [description] -> Postage \n",
        "* 'M'         : [description] -> Manual\n",
        "* 'D'         : [description] -> Discount\n",
        "* 'B'         : [description] -> Adjust bad debt\n",
        "\n",
        "**Invoice** (Attribute)\n",
        "* 'C.....' : Any invoice code starting with 'C' has negative price and quantity which indicates that the perticular order was cancelled\n",
        "\n",
        "**Note :** \n",
        "* We can remove **'Manual'**, **'Postage'** and **'Test sample'** data for some evaluations\n",
        "* We can remove the rows containing **NaN** values for some evaluations"
      ]
    },
    {
      "cell_type": "markdown",
      "metadata": {
        "id": "tjKdWS2ETjmM"
      },
      "source": [
        "# Data Cleaning"
      ]
    },
    {
      "cell_type": "code",
      "metadata": {
        "colab": {
          "base_uri": "https://localhost:8080/"
        },
        "id": "6T45CvNCwS37",
        "outputId": "7352899d-cf7a-4f53-ad7f-d50bbb5cfbd3"
      },
      "source": [
        "df.dropna(inplace=True)\n",
        "df.shape"
      ],
      "execution_count": null,
      "outputs": [
        {
          "output_type": "execute_result",
          "data": {
            "text/plain": [
              "(824364, 12)"
            ]
          },
          "metadata": {},
          "execution_count": 6
        }
      ]
    },
    {
      "cell_type": "code",
      "metadata": {
        "id": "biEdmdJDfL4C"
      },
      "source": [
        "df.drop_duplicates(inplace=True)"
      ],
      "execution_count": null,
      "outputs": []
    },
    {
      "cell_type": "code",
      "metadata": {
        "colab": {
          "base_uri": "https://localhost:8080/",
          "height": 423
        },
        "id": "9UiDDdyltPsN",
        "outputId": "06685997-3414-4f53-df4b-faec3d99b1f6"
      },
      "source": [
        "## Do corrections!\n",
        "\n",
        "df[df['Customer ID']==12346.0]\n",
        "df[df['StockCode']=='POST']\n",
        "#df[df['Quantity']==80995]\n",
        "#df[df['Price']<0]"
      ],
      "execution_count": null,
      "outputs": [
        {
          "output_type": "execute_result",
          "data": {
            "text/html": [
              "<div>\n",
              "<style scoped>\n",
              "    .dataframe tbody tr th:only-of-type {\n",
              "        vertical-align: middle;\n",
              "    }\n",
              "\n",
              "    .dataframe tbody tr th {\n",
              "        vertical-align: top;\n",
              "    }\n",
              "\n",
              "    .dataframe thead th {\n",
              "        text-align: right;\n",
              "    }\n",
              "</style>\n",
              "<table border=\"1\" class=\"dataframe\">\n",
              "  <thead>\n",
              "    <tr style=\"text-align: right;\">\n",
              "      <th></th>\n",
              "      <th>Invoice</th>\n",
              "      <th>StockCode</th>\n",
              "      <th>Description</th>\n",
              "      <th>Quantity</th>\n",
              "      <th>InvoiceDate</th>\n",
              "      <th>Price</th>\n",
              "      <th>Customer ID</th>\n",
              "      <th>Country</th>\n",
              "      <th>Total_Price</th>\n",
              "      <th>Inv_Month</th>\n",
              "      <th>Inv_Weekday</th>\n",
              "      <th>Inv_Hour</th>\n",
              "    </tr>\n",
              "  </thead>\n",
              "  <tbody>\n",
              "    <tr>\n",
              "      <th>89</th>\n",
              "      <td>489439</td>\n",
              "      <td>POST</td>\n",
              "      <td>POSTAGE</td>\n",
              "      <td>3</td>\n",
              "      <td>2009-12-01 09:28:00</td>\n",
              "      <td>18.00</td>\n",
              "      <td>12682.0</td>\n",
              "      <td>France</td>\n",
              "      <td>54.00</td>\n",
              "      <td>12</td>\n",
              "      <td>1</td>\n",
              "      <td>9</td>\n",
              "    </tr>\n",
              "    <tr>\n",
              "      <th>126</th>\n",
              "      <td>489444</td>\n",
              "      <td>POST</td>\n",
              "      <td>POSTAGE</td>\n",
              "      <td>1</td>\n",
              "      <td>2009-12-01 09:55:00</td>\n",
              "      <td>141.00</td>\n",
              "      <td>12636.0</td>\n",
              "      <td>USA</td>\n",
              "      <td>141.00</td>\n",
              "      <td>12</td>\n",
              "      <td>1</td>\n",
              "      <td>9</td>\n",
              "    </tr>\n",
              "    <tr>\n",
              "      <th>173</th>\n",
              "      <td>489447</td>\n",
              "      <td>POST</td>\n",
              "      <td>POSTAGE</td>\n",
              "      <td>1</td>\n",
              "      <td>2009-12-01 10:10:00</td>\n",
              "      <td>130.00</td>\n",
              "      <td>12362.0</td>\n",
              "      <td>Belgium</td>\n",
              "      <td>130.00</td>\n",
              "      <td>12</td>\n",
              "      <td>1</td>\n",
              "      <td>10</td>\n",
              "    </tr>\n",
              "    <tr>\n",
              "      <th>625</th>\n",
              "      <td>489526</td>\n",
              "      <td>POST</td>\n",
              "      <td>POSTAGE</td>\n",
              "      <td>6</td>\n",
              "      <td>2009-12-01 11:50:00</td>\n",
              "      <td>18.00</td>\n",
              "      <td>12533.0</td>\n",
              "      <td>Germany</td>\n",
              "      <td>108.00</td>\n",
              "      <td>12</td>\n",
              "      <td>1</td>\n",
              "      <td>11</td>\n",
              "    </tr>\n",
              "    <tr>\n",
              "      <th>927</th>\n",
              "      <td>C489538</td>\n",
              "      <td>POST</td>\n",
              "      <td>POSTAGE</td>\n",
              "      <td>-1</td>\n",
              "      <td>2009-12-01 12:18:00</td>\n",
              "      <td>9.58</td>\n",
              "      <td>15796.0</td>\n",
              "      <td>United Kingdom</td>\n",
              "      <td>-9.58</td>\n",
              "      <td>12</td>\n",
              "      <td>1</td>\n",
              "      <td>12</td>\n",
              "    </tr>\n",
              "    <tr>\n",
              "      <th>...</th>\n",
              "      <td>...</td>\n",
              "      <td>...</td>\n",
              "      <td>...</td>\n",
              "      <td>...</td>\n",
              "      <td>...</td>\n",
              "      <td>...</td>\n",
              "      <td>...</td>\n",
              "      <td>...</td>\n",
              "      <td>...</td>\n",
              "      <td>...</td>\n",
              "      <td>...</td>\n",
              "      <td>...</td>\n",
              "    </tr>\n",
              "    <tr>\n",
              "      <th>1066677</th>\n",
              "      <td>581494</td>\n",
              "      <td>POST</td>\n",
              "      <td>POSTAGE</td>\n",
              "      <td>2</td>\n",
              "      <td>2011-12-09 10:13:00</td>\n",
              "      <td>18.00</td>\n",
              "      <td>12518.0</td>\n",
              "      <td>Germany</td>\n",
              "      <td>36.00</td>\n",
              "      <td>12</td>\n",
              "      <td>4</td>\n",
              "      <td>10</td>\n",
              "    </tr>\n",
              "    <tr>\n",
              "      <th>1067191</th>\n",
              "      <td>581570</td>\n",
              "      <td>POST</td>\n",
              "      <td>POSTAGE</td>\n",
              "      <td>1</td>\n",
              "      <td>2011-12-09 11:59:00</td>\n",
              "      <td>18.00</td>\n",
              "      <td>12662.0</td>\n",
              "      <td>Germany</td>\n",
              "      <td>18.00</td>\n",
              "      <td>12</td>\n",
              "      <td>4</td>\n",
              "      <td>11</td>\n",
              "    </tr>\n",
              "    <tr>\n",
              "      <th>1067228</th>\n",
              "      <td>581574</td>\n",
              "      <td>POST</td>\n",
              "      <td>POSTAGE</td>\n",
              "      <td>2</td>\n",
              "      <td>2011-12-09 12:09:00</td>\n",
              "      <td>18.00</td>\n",
              "      <td>12526.0</td>\n",
              "      <td>Germany</td>\n",
              "      <td>36.00</td>\n",
              "      <td>12</td>\n",
              "      <td>4</td>\n",
              "      <td>12</td>\n",
              "    </tr>\n",
              "    <tr>\n",
              "      <th>1067229</th>\n",
              "      <td>581578</td>\n",
              "      <td>POST</td>\n",
              "      <td>POSTAGE</td>\n",
              "      <td>3</td>\n",
              "      <td>2011-12-09 12:16:00</td>\n",
              "      <td>18.00</td>\n",
              "      <td>12713.0</td>\n",
              "      <td>Germany</td>\n",
              "      <td>54.00</td>\n",
              "      <td>12</td>\n",
              "      <td>4</td>\n",
              "      <td>12</td>\n",
              "    </tr>\n",
              "    <tr>\n",
              "      <th>1067370</th>\n",
              "      <td>581587</td>\n",
              "      <td>POST</td>\n",
              "      <td>POSTAGE</td>\n",
              "      <td>1</td>\n",
              "      <td>2011-12-09 12:50:00</td>\n",
              "      <td>18.00</td>\n",
              "      <td>12680.0</td>\n",
              "      <td>France</td>\n",
              "      <td>18.00</td>\n",
              "      <td>12</td>\n",
              "      <td>4</td>\n",
              "      <td>12</td>\n",
              "    </tr>\n",
              "  </tbody>\n",
              "</table>\n",
              "<p>1983 rows × 12 columns</p>\n",
              "</div>"
            ],
            "text/plain": [
              "         Invoice StockCode Description  ...  Inv_Month Inv_Weekday  Inv_Hour\n",
              "89        489439      POST     POSTAGE  ...         12           1         9\n",
              "126       489444      POST     POSTAGE  ...         12           1         9\n",
              "173       489447      POST     POSTAGE  ...         12           1        10\n",
              "625       489526      POST     POSTAGE  ...         12           1        11\n",
              "927      C489538      POST     POSTAGE  ...         12           1        12\n",
              "...          ...       ...         ...  ...        ...         ...       ...\n",
              "1066677   581494      POST     POSTAGE  ...         12           4        10\n",
              "1067191   581570      POST     POSTAGE  ...         12           4        11\n",
              "1067228   581574      POST     POSTAGE  ...         12           4        12\n",
              "1067229   581578      POST     POSTAGE  ...         12           4        12\n",
              "1067370   581587      POST     POSTAGE  ...         12           4        12\n",
              "\n",
              "[1983 rows x 12 columns]"
            ]
          },
          "metadata": {},
          "execution_count": 8
        }
      ]
    },
    {
      "cell_type": "code",
      "metadata": {
        "colab": {
          "base_uri": "https://localhost:8080/"
        },
        "id": "ets5ua8QT8TF",
        "outputId": "a595ad22-be8c-4137-b5f8-d991f6338f89"
      },
      "source": [
        "df=df[~df.StockCode.str.contains('TEST00', na=False)]\n",
        "df=df[~df.StockCode.isin(['M','POST'])]\n",
        "df.shape"
      ],
      "execution_count": null,
      "outputs": [
        {
          "output_type": "execute_result",
          "data": {
            "text/plain": [
              "(794801, 12)"
            ]
          },
          "metadata": {},
          "execution_count": 9
        }
      ]
    },
    {
      "cell_type": "code",
      "metadata": {
        "colab": {
          "base_uri": "https://localhost:8080/"
        },
        "id": "L1H86IbK70MO",
        "outputId": "96991205-380b-4cbb-dc58-1d51c3755d79"
      },
      "source": [
        "# dataframe with all discounts\n",
        "d_df = df[df.StockCode == 'D']\n",
        "d_df.shape"
      ],
      "execution_count": null,
      "outputs": [
        {
          "output_type": "execute_result",
          "data": {
            "text/plain": [
              "(170, 12)"
            ]
          },
          "metadata": {},
          "execution_count": 10
        }
      ]
    },
    {
      "cell_type": "code",
      "metadata": {
        "colab": {
          "base_uri": "https://localhost:8080/"
        },
        "id": "fmc7erpyUWLO",
        "outputId": "16b1f652-c335-4781-ff05-4e34113e890f"
      },
      "source": [
        "# Rmoving cancelled invoices\n",
        "df=df[~df['Invoice'].str.startswith('C',na=False)].copy()\n",
        "df.shape"
      ],
      "execution_count": null,
      "outputs": [
        {
          "output_type": "execute_result",
          "data": {
            "text/plain": [
              "(776992, 12)"
            ]
          },
          "metadata": {},
          "execution_count": 11
        }
      ]
    },
    {
      "cell_type": "code",
      "metadata": {
        "colab": {
          "base_uri": "https://localhost:8080/"
        },
        "id": "EWRa6X15UWfg",
        "outputId": "f1a7a866-b90a-4f34-e1f6-2589f98410fc"
      },
      "source": [
        "print(df[df['Price']==0.0].shape)"
      ],
      "execution_count": null,
      "outputs": [
        {
          "output_type": "stream",
          "name": "stdout",
          "text": [
            "(61, 12)\n"
          ]
        }
      ]
    },
    {
      "cell_type": "markdown",
      "metadata": {
        "id": "5eChJcSyq_rJ"
      },
      "source": [
        "**We can see there are 61 values which have Price value zero i.e. they are free products. We can remove these entries as does not give any contribution in customer analysis.**"
      ]
    },
    {
      "cell_type": "code",
      "metadata": {
        "colab": {
          "base_uri": "https://localhost:8080/"
        },
        "id": "wha64cyq0V5m",
        "outputId": "170e12af-1b2f-4536-b0c6-f10e9ffbf48c"
      },
      "source": [
        "#removing free items\n",
        "df=df[df['Price']!=0.0]\n",
        "df.shape"
      ],
      "execution_count": null,
      "outputs": [
        {
          "output_type": "execute_result",
          "data": {
            "text/plain": [
              "(776931, 12)"
            ]
          },
          "metadata": {},
          "execution_count": 13
        }
      ]
    },
    {
      "cell_type": "code",
      "metadata": {
        "colab": {
          "base_uri": "https://localhost:8080/",
          "height": 394
        },
        "id": "7jaiyvJkAWDZ",
        "outputId": "6e03fc14-bbe9-493b-d800-f853e3b44e5d"
      },
      "source": [
        "df.loc[:, df.columns!='InvoiceDate'].describe(include='all').round(2)"
      ],
      "execution_count": null,
      "outputs": [
        {
          "output_type": "execute_result",
          "data": {
            "text/html": [
              "<div>\n",
              "<style scoped>\n",
              "    .dataframe tbody tr th:only-of-type {\n",
              "        vertical-align: middle;\n",
              "    }\n",
              "\n",
              "    .dataframe tbody tr th {\n",
              "        vertical-align: top;\n",
              "    }\n",
              "\n",
              "    .dataframe thead th {\n",
              "        text-align: right;\n",
              "    }\n",
              "</style>\n",
              "<table border=\"1\" class=\"dataframe\">\n",
              "  <thead>\n",
              "    <tr style=\"text-align: right;\">\n",
              "      <th></th>\n",
              "      <th>Invoice</th>\n",
              "      <th>StockCode</th>\n",
              "      <th>Description</th>\n",
              "      <th>Quantity</th>\n",
              "      <th>Price</th>\n",
              "      <th>Customer ID</th>\n",
              "      <th>Country</th>\n",
              "      <th>Total_Price</th>\n",
              "      <th>Inv_Month</th>\n",
              "      <th>Inv_Weekday</th>\n",
              "      <th>Inv_Hour</th>\n",
              "    </tr>\n",
              "  </thead>\n",
              "  <tbody>\n",
              "    <tr>\n",
              "      <th>count</th>\n",
              "      <td>776931.0</td>\n",
              "      <td>776931</td>\n",
              "      <td>776931</td>\n",
              "      <td>776931.00</td>\n",
              "      <td>776931.00</td>\n",
              "      <td>776931.00</td>\n",
              "      <td>776931</td>\n",
              "      <td>776931.00</td>\n",
              "      <td>776931.00</td>\n",
              "      <td>776931.00</td>\n",
              "      <td>776931.00</td>\n",
              "    </tr>\n",
              "    <tr>\n",
              "      <th>unique</th>\n",
              "      <td>36670.0</td>\n",
              "      <td>4627</td>\n",
              "      <td>5280</td>\n",
              "      <td>NaN</td>\n",
              "      <td>NaN</td>\n",
              "      <td>NaN</td>\n",
              "      <td>41</td>\n",
              "      <td>NaN</td>\n",
              "      <td>NaN</td>\n",
              "      <td>NaN</td>\n",
              "      <td>NaN</td>\n",
              "    </tr>\n",
              "    <tr>\n",
              "      <th>top</th>\n",
              "      <td>576339.0</td>\n",
              "      <td>85123A</td>\n",
              "      <td>WHITE HANGING HEART T-LIGHT HOLDER</td>\n",
              "      <td>NaN</td>\n",
              "      <td>NaN</td>\n",
              "      <td>NaN</td>\n",
              "      <td>United Kingdom</td>\n",
              "      <td>NaN</td>\n",
              "      <td>NaN</td>\n",
              "      <td>NaN</td>\n",
              "      <td>NaN</td>\n",
              "    </tr>\n",
              "    <tr>\n",
              "      <th>freq</th>\n",
              "      <td>542.0</td>\n",
              "      <td>5023</td>\n",
              "      <td>5016</td>\n",
              "      <td>NaN</td>\n",
              "      <td>NaN</td>\n",
              "      <td>NaN</td>\n",
              "      <td>699748</td>\n",
              "      <td>NaN</td>\n",
              "      <td>NaN</td>\n",
              "      <td>NaN</td>\n",
              "      <td>NaN</td>\n",
              "    </tr>\n",
              "    <tr>\n",
              "      <th>mean</th>\n",
              "      <td>NaN</td>\n",
              "      <td>NaN</td>\n",
              "      <td>NaN</td>\n",
              "      <td>13.51</td>\n",
              "      <td>2.97</td>\n",
              "      <td>15326.33</td>\n",
              "      <td>NaN</td>\n",
              "      <td>22.01</td>\n",
              "      <td>7.42</td>\n",
              "      <td>2.64</td>\n",
              "      <td>12.79</td>\n",
              "    </tr>\n",
              "    <tr>\n",
              "      <th>std</th>\n",
              "      <td>NaN</td>\n",
              "      <td>NaN</td>\n",
              "      <td>NaN</td>\n",
              "      <td>146.06</td>\n",
              "      <td>6.11</td>\n",
              "      <td>1692.69</td>\n",
              "      <td>NaN</td>\n",
              "      <td>225.92</td>\n",
              "      <td>3.42</td>\n",
              "      <td>1.95</td>\n",
              "      <td>2.29</td>\n",
              "    </tr>\n",
              "    <tr>\n",
              "      <th>min</th>\n",
              "      <td>NaN</td>\n",
              "      <td>NaN</td>\n",
              "      <td>NaN</td>\n",
              "      <td>1.00</td>\n",
              "      <td>0.00</td>\n",
              "      <td>12346.00</td>\n",
              "      <td>NaN</td>\n",
              "      <td>0.00</td>\n",
              "      <td>1.00</td>\n",
              "      <td>0.00</td>\n",
              "      <td>6.00</td>\n",
              "    </tr>\n",
              "    <tr>\n",
              "      <th>25%</th>\n",
              "      <td>NaN</td>\n",
              "      <td>NaN</td>\n",
              "      <td>NaN</td>\n",
              "      <td>2.00</td>\n",
              "      <td>1.25</td>\n",
              "      <td>13979.00</td>\n",
              "      <td>NaN</td>\n",
              "      <td>4.95</td>\n",
              "      <td>5.00</td>\n",
              "      <td>1.00</td>\n",
              "      <td>11.00</td>\n",
              "    </tr>\n",
              "    <tr>\n",
              "      <th>50%</th>\n",
              "      <td>NaN</td>\n",
              "      <td>NaN</td>\n",
              "      <td>NaN</td>\n",
              "      <td>6.00</td>\n",
              "      <td>1.95</td>\n",
              "      <td>15251.00</td>\n",
              "      <td>NaN</td>\n",
              "      <td>12.48</td>\n",
              "      <td>8.00</td>\n",
              "      <td>2.00</td>\n",
              "      <td>13.00</td>\n",
              "    </tr>\n",
              "    <tr>\n",
              "      <th>75%</th>\n",
              "      <td>NaN</td>\n",
              "      <td>NaN</td>\n",
              "      <td>NaN</td>\n",
              "      <td>12.00</td>\n",
              "      <td>3.75</td>\n",
              "      <td>16795.00</td>\n",
              "      <td>NaN</td>\n",
              "      <td>19.80</td>\n",
              "      <td>11.00</td>\n",
              "      <td>4.00</td>\n",
              "      <td>14.00</td>\n",
              "    </tr>\n",
              "    <tr>\n",
              "      <th>max</th>\n",
              "      <td>NaN</td>\n",
              "      <td>NaN</td>\n",
              "      <td>NaN</td>\n",
              "      <td>80995.00</td>\n",
              "      <td>1599.26</td>\n",
              "      <td>18287.00</td>\n",
              "      <td>NaN</td>\n",
              "      <td>168469.60</td>\n",
              "      <td>12.00</td>\n",
              "      <td>6.00</td>\n",
              "      <td>20.00</td>\n",
              "    </tr>\n",
              "  </tbody>\n",
              "</table>\n",
              "</div>"
            ],
            "text/plain": [
              "         Invoice StockCode  ... Inv_Weekday   Inv_Hour\n",
              "count   776931.0    776931  ...   776931.00  776931.00\n",
              "unique   36670.0      4627  ...         NaN        NaN\n",
              "top     576339.0    85123A  ...         NaN        NaN\n",
              "freq       542.0      5023  ...         NaN        NaN\n",
              "mean         NaN       NaN  ...        2.64      12.79\n",
              "std          NaN       NaN  ...        1.95       2.29\n",
              "min          NaN       NaN  ...        0.00       6.00\n",
              "25%          NaN       NaN  ...        1.00      11.00\n",
              "50%          NaN       NaN  ...        2.00      13.00\n",
              "75%          NaN       NaN  ...        4.00      14.00\n",
              "max          NaN       NaN  ...        6.00      20.00\n",
              "\n",
              "[11 rows x 11 columns]"
            ]
          },
          "metadata": {},
          "execution_count": 14
        }
      ]
    },
    {
      "cell_type": "markdown",
      "metadata": {
        "id": "x3ko4ba1dJ8H"
      },
      "source": [
        "# Data Analysis"
      ]
    },
    {
      "cell_type": "code",
      "metadata": {
        "colab": {
          "base_uri": "https://localhost:8080/"
        },
        "id": "SEJUXyMSD9ZY",
        "outputId": "a17cf370-1d8e-4d2f-e4bf-b1f5db1d3315"
      },
      "source": [
        "df.Country.value_counts()[:5]"
      ],
      "execution_count": null,
      "outputs": [
        {
          "output_type": "execute_result",
          "data": {
            "text/plain": [
              "United Kingdom    699748\n",
              "Germany            15791\n",
              "EIRE               15541\n",
              "France             13037\n",
              "Netherlands         4981\n",
              "Name: Country, dtype: int64"
            ]
          },
          "metadata": {},
          "execution_count": 15
        }
      ]
    },
    {
      "cell_type": "code",
      "metadata": {
        "colab": {
          "base_uri": "https://localhost:8080/"
        },
        "id": "PQfV8VHEIMTA",
        "outputId": "dfd17564-5940-45de-c331-62191f27cdfd"
      },
      "source": [
        "df.loc[df.Country=='United Kingdom'].shape[0]/df.shape[0] *100"
      ],
      "execution_count": null,
      "outputs": [
        {
          "output_type": "execute_result",
          "data": {
            "text/plain": [
              "90.06565576608476"
            ]
          },
          "metadata": {},
          "execution_count": 16
        }
      ]
    },
    {
      "cell_type": "code",
      "metadata": {
        "colab": {
          "base_uri": "https://localhost:8080/"
        },
        "id": "yHJujQfEWsYg",
        "outputId": "bead954a-7ab6-4809-c158-d63537fee08f"
      },
      "source": [
        "country_grped = df.groupby('Country', as_index=False).sum().sort_values(by='Total_Price', ascending=False)[['Country','Total_Price']].round(2)\n",
        "print(country_grped.head())"
      ],
      "execution_count": null,
      "outputs": [
        {
          "output_type": "stream",
          "name": "stdout",
          "text": [
            "           Country  Total_Price\n",
            "38  United Kingdom  14306597.82\n",
            "10            EIRE    597012.43\n",
            "24     Netherlands    549773.41\n",
            "14         Germany    383419.24\n",
            "13          France    309855.89\n"
          ]
        }
      ]
    },
    {
      "cell_type": "code",
      "metadata": {
        "colab": {
          "base_uri": "https://localhost:8080/"
        },
        "id": "T4T3n4fTJBdx",
        "outputId": "97d6d384-c7c9-470f-b716-b43861de375c"
      },
      "source": [
        "(country_grped['Total_Price'].max() / country_grped['Total_Price'].sum())*100"
      ],
      "execution_count": null,
      "outputs": [
        {
          "output_type": "execute_result",
          "data": {
            "text/plain": [
              "83.67335459077222"
            ]
          },
          "metadata": {},
          "execution_count": 18
        }
      ]
    },
    {
      "cell_type": "code",
      "metadata": {
        "colab": {
          "base_uri": "https://localhost:8080/",
          "height": 726
        },
        "id": "BwnXKJ4jKAJG",
        "outputId": "9ae5248e-19bf-4bd0-90cd-62b707893ff4"
      },
      "source": [
        "plt.figure(figsize=(15,10))\n",
        "sns.set_theme(style=\"darkgrid\")\n",
        "#########################################\n",
        "plt.subplot(121)\n",
        "plt.title(\"Purchase count from different Countries\")\n",
        "sns.countplot(y=df[\"Country\"], data=df, order=df['Country'].value_counts().index)\n",
        "plt.ylabel(\"Countries\",fontsize=20)\n",
        "plt.xlabel(\"Count\",fontsize=20)\n",
        "plt.yticks(fontsize=12)\n",
        "plt.xticks(fontsize=12)\n",
        "plt.xscale('log')\n",
        "#########################################\n",
        "plt.subplot(122)\n",
        "plt.title(\"Revenue from different Countries\")\n",
        "sns.barplot(x=country_grped['Total_Price'], y=country_grped[\"Country\"], data=country_grped)\n",
        "plt.ylabel(\"Countries\",fontsize=20)\n",
        "plt.xlabel(\"Revenue\",fontsize=20)\n",
        "plt.yticks(fontsize=12)\n",
        "plt.xticks(fontsize=12)\n",
        "plt.xscale('log')\n",
        "plt.tight_layout(pad=1)\n",
        "plt.show()"
      ],
      "execution_count": null,
      "outputs": [
        {
          "output_type": "display_data",
          "data": {
            "image/png": "[encoded data removed]",
            "text/plain": [
              "<Figure size 1080x720 with 2 Axes>"
            ]
          },
          "metadata": {
            "needs_background": "light"
          }
        }
      ]
    },
    {
      "cell_type": "code",
      "metadata": {
        "colab": {
          "base_uri": "https://localhost:8080/",
          "height": 423
        },
        "id": "OC6CZWcTGm6j",
        "outputId": "e8415631-1ee4-4f6a-b9c7-788a6e09cdce"
      },
      "source": [
        "uk_df = df[df.Country=='United Kingdom']\n",
        "uk_prod_grp = uk_df.groupby('StockCode', as_index=False)['Quantity'].sum().sort_values(by='Quantity', ascending=False)\n",
        "uk_prod_grp "
      ],
      "execution_count": null,
      "outputs": [
        {
          "output_type": "execute_result",
          "data": {
            "text/html": [
              "<div>\n",
              "<style scoped>\n",
              "    .dataframe tbody tr th:only-of-type {\n",
              "        vertical-align: middle;\n",
              "    }\n",
              "\n",
              "    .dataframe tbody tr th {\n",
              "        vertical-align: top;\n",
              "    }\n",
              "\n",
              "    .dataframe thead th {\n",
              "        text-align: right;\n",
              "    }\n",
              "</style>\n",
              "<table border=\"1\" class=\"dataframe\">\n",
              "  <thead>\n",
              "    <tr style=\"text-align: right;\">\n",
              "      <th></th>\n",
              "      <th>StockCode</th>\n",
              "      <th>Quantity</th>\n",
              "    </tr>\n",
              "  </thead>\n",
              "  <tbody>\n",
              "    <tr>\n",
              "      <th>2890</th>\n",
              "      <td>84077</td>\n",
              "      <td>96736</td>\n",
              "    </tr>\n",
              "    <tr>\n",
              "      <th>4217</th>\n",
              "      <td>85123A</td>\n",
              "      <td>84503</td>\n",
              "    </tr>\n",
              "    <tr>\n",
              "      <th>4208</th>\n",
              "      <td>85099B</td>\n",
              "      <td>84313</td>\n",
              "    </tr>\n",
              "    <tr>\n",
              "      <th>2601</th>\n",
              "      <td>23843</td>\n",
              "      <td>80995</td>\n",
              "    </tr>\n",
              "    <tr>\n",
              "      <th>2199</th>\n",
              "      <td>23166</td>\n",
              "      <td>76919</td>\n",
              "    </tr>\n",
              "    <tr>\n",
              "      <th>...</th>\n",
              "      <td>...</td>\n",
              "      <td>...</td>\n",
              "    </tr>\n",
              "    <tr>\n",
              "      <th>4042</th>\n",
              "      <td>84867A</td>\n",
              "      <td>1</td>\n",
              "    </tr>\n",
              "    <tr>\n",
              "      <th>66</th>\n",
              "      <td>20620</td>\n",
              "      <td>1</td>\n",
              "    </tr>\n",
              "    <tr>\n",
              "      <th>2593</th>\n",
              "      <td>23664</td>\n",
              "      <td>1</td>\n",
              "    </tr>\n",
              "    <tr>\n",
              "      <th>3112</th>\n",
              "      <td>85043</td>\n",
              "      <td>1</td>\n",
              "    </tr>\n",
              "    <tr>\n",
              "      <th>2641</th>\n",
              "      <td>35945</td>\n",
              "      <td>1</td>\n",
              "    </tr>\n",
              "  </tbody>\n",
              "</table>\n",
              "<p>4612 rows × 2 columns</p>\n",
              "</div>"
            ],
            "text/plain": [
              "     StockCode  Quantity\n",
              "2890     84077     96736\n",
              "4217    85123A     84503\n",
              "4208    85099B     84313\n",
              "2601     23843     80995\n",
              "2199     23166     76919\n",
              "...        ...       ...\n",
              "4042    84867A         1\n",
              "66       20620         1\n",
              "2593     23664         1\n",
              "3112     85043         1\n",
              "2641     35945         1\n",
              "\n",
              "[4612 rows x 2 columns]"
            ]
          },
          "metadata": {},
          "execution_count": 20
        }
      ]
    },
    {
      "cell_type": "markdown",
      "metadata": {
        "id": "1QtUMtcfOr6G"
      },
      "source": [
        "**We can observe that purchase count from UK is exponentially high as compared to other countries**"
      ]
    },
    {
      "cell_type": "code",
      "metadata": {
        "colab": {
          "base_uri": "https://localhost:8080/",
          "height": 646
        },
        "id": "Z9tNL9MrcG8Y",
        "outputId": "f6365d36-e7b2-4153-e615-77269f69fb08"
      },
      "source": [
        "\n",
        "def dist_plot(feature,colour,pos=121):\n",
        "    plt.figure(figsize=(15,4))\n",
        "    plt.subplot(pos)\n",
        "    sns.boxplot(x=feature,data=df,color=colour)\n",
        "    plt.subplot(pos+1)\n",
        "    sns.distplot(x=df[feature],color=colour)\n",
        "dist_plot(\"Total_Price\",\"red\")\n",
        "dist_plot(\"Quantity\",\"teal\")"
      ],
      "execution_count": null,
      "outputs": [
        {
          "output_type": "stream",
          "name": "stderr",
          "text": [
            "/usr/local/lib/python3.7/dist-packages/seaborn/distributions.py:2619: FutureWarning: `distplot` is a deprecated function and will be removed in a future version. Please adapt your code to use either `displot` (a figure-level function with similar flexibility) or `histplot` (an axes-level function for histograms).\n",
            "  warnings.warn(msg, FutureWarning)\n",
            "/usr/local/lib/python3.7/dist-packages/seaborn/distributions.py:2619: FutureWarning: `distplot` is a deprecated function and will be removed in a future version. Please adapt your code to use either `displot` (a figure-level function with similar flexibility) or `histplot` (an axes-level function for histograms).\n",
            "  warnings.warn(msg, FutureWarning)\n"
          ]
        },
        {
          "output_type": "display_data",
          "data": {
            "image/png": "[encoded data removed]",
            "text/plain": [
              "<Figure size 1080x288 with 2 Axes>"
            ]
          },
          "metadata": {}
        },
        {
          "output_type": "display_data",
          "data": {
            "image/png": "[encoded data removed]",
            "text/plain": [
              "<Figure size 1080x288 with 2 Axes>"
            ]
          },
          "metadata": {}
        }
      ]
    },
    {
      "cell_type": "code",
      "metadata": {
        "id": "pogIgcjYdqxI"
      },
      "source": [
        "# define outliers\n",
        "price_outliers = np.percentile(df.Total_Price, [5,90])\n",
        "quantity_outliers = np.percentile(df.Quantity, [5,90])\n",
        "# create filters based on outliers\n",
        "price_filter = (df.Total_Price > price_outliers[0]) & (df.Total_Price < price_outliers[1])\n",
        "quantity_filter = (df.Quantity > quantity_outliers[0]) & (df.Quantity < price_outliers[1])\n",
        "# apply filters\n",
        "df1=df[(price_filter) & (quantity_filter)].copy()"
      ],
      "execution_count": null,
      "outputs": []
    },
    {
      "cell_type": "code",
      "metadata": {
        "colab": {
          "base_uri": "https://localhost:8080/",
          "height": 646
        },
        "id": "XZlaec8yerAn",
        "outputId": "b836b495-14ff-4c15-cc38-25bb1d87b284"
      },
      "source": [
        "def dist_plot(feature,colour,pos=121):\n",
        "    plt.figure(figsize=(15,4))\n",
        "    plt.subplot(pos)\n",
        "    sns.boxplot(x=feature,data=df1,color=colour)\n",
        "    plt.subplot(pos+1)\n",
        "    sns.distplot(x=df1[feature],color=colour)\n",
        "dist_plot(\"Total_Price\",\"red\")\n",
        "dist_plot(\"Quantity\",\"teal\")"
      ],
      "execution_count": null,
      "outputs": [
        {
          "output_type": "stream",
          "name": "stderr",
          "text": [
            "/usr/local/lib/python3.7/dist-packages/seaborn/distributions.py:2619: FutureWarning: `distplot` is a deprecated function and will be removed in a future version. Please adapt your code to use either `displot` (a figure-level function with similar flexibility) or `histplot` (an axes-level function for histograms).\n",
            "  warnings.warn(msg, FutureWarning)\n",
            "/usr/local/lib/python3.7/dist-packages/seaborn/distributions.py:2619: FutureWarning: `distplot` is a deprecated function and will be removed in a future version. Please adapt your code to use either `displot` (a figure-level function with similar flexibility) or `histplot` (an axes-level function for histograms).\n",
            "  warnings.warn(msg, FutureWarning)\n"
          ]
        },
        {
          "output_type": "display_data",
          "data": {
            "image/png": "[encoded data removed]",
            "text/plain": [
              "<Figure size 1080x288 with 2 Axes>"
            ]
          },
          "metadata": {}
        },
        {
          "output_type": "display_data",
          "data": {
            "image/png": "[encoded data removed]",
            "text/plain": [
              "<Figure size 1080x288 with 2 Axes>"
            ]
          },
          "metadata": {}
        }
      ]
    },
    {
      "cell_type": "markdown",
      "metadata": {
        "id": "cRobvuTu5E5e"
      },
      "source": [
        "# **Q. Discuss customer's lifetime with respect to the given dataset.**"
      ]
    },
    {
      "cell_type": "code",
      "metadata": {
        "colab": {
          "base_uri": "https://localhost:8080/",
          "height": 206
        },
        "id": "PbWprmr_X3tL",
        "outputId": "126712e0-302b-460f-bd2b-b559e3e5dbd3"
      },
      "source": [
        "cl_grp =df.groupby(['Customer ID'], as_index=False).agg({'InvoiceDate': lambda x:((x.max()-x.min()).days)+1}).sort_values(by='InvoiceDate', ascending=False)\n",
        "cl_grp.columns=['Customer ID', 'Customer_Lifetime']\n",
        "cl_grp.head()"
      ],
      "execution_count": null,
      "outputs": [
        {
          "output_type": "execute_result",
          "data": {
            "text/html": [
              "<div>\n",
              "<style scoped>\n",
              "    .dataframe tbody tr th:only-of-type {\n",
              "        vertical-align: middle;\n",
              "    }\n",
              "\n",
              "    .dataframe tbody tr th {\n",
              "        vertical-align: top;\n",
              "    }\n",
              "\n",
              "    .dataframe thead th {\n",
              "        text-align: right;\n",
              "    }\n",
              "</style>\n",
              "<table border=\"1\" class=\"dataframe\">\n",
              "  <thead>\n",
              "    <tr style=\"text-align: right;\">\n",
              "      <th></th>\n",
              "      <th>Customer ID</th>\n",
              "      <th>Customer_Lifetime</th>\n",
              "    </tr>\n",
              "  </thead>\n",
              "  <tbody>\n",
              "    <tr>\n",
              "      <th>5676</th>\n",
              "      <td>18102.0</td>\n",
              "      <td>739</td>\n",
              "    </tr>\n",
              "    <tr>\n",
              "      <th>2924</th>\n",
              "      <td>15311.0</td>\n",
              "      <td>739</td>\n",
              "    </tr>\n",
              "    <tr>\n",
              "      <th>1235</th>\n",
              "      <td>13599.0</td>\n",
              "      <td>738</td>\n",
              "    </tr>\n",
              "    <tr>\n",
              "      <th>2528</th>\n",
              "      <td>14911.0</td>\n",
              "      <td>738</td>\n",
              "    </tr>\n",
              "    <tr>\n",
              "      <th>1409</th>\n",
              "      <td>13777.0</td>\n",
              "      <td>738</td>\n",
              "    </tr>\n",
              "  </tbody>\n",
              "</table>\n",
              "</div>"
            ],
            "text/plain": [
              "      Customer ID  Customer_Lifetime\n",
              "5676      18102.0                739\n",
              "2924      15311.0                739\n",
              "1235      13599.0                738\n",
              "2528      14911.0                738\n",
              "1409      13777.0                738"
            ]
          },
          "metadata": {},
          "execution_count": 24
        }
      ]
    },
    {
      "cell_type": "code",
      "metadata": {
        "colab": {
          "base_uri": "https://localhost:8080/"
        },
        "id": "ShpQ1ovGX_x_",
        "outputId": "9d9a3dea-1806-40ef-c820-b36ae6b39bd1"
      },
      "source": [
        "cl_grp['Customer_Lifetime'].describe()"
      ],
      "execution_count": null,
      "outputs": [
        {
          "output_type": "execute_result",
          "data": {
            "text/plain": [
              "count    5862.000000\n",
              "mean      274.263391\n",
              "std       258.526186\n",
              "min         1.000000\n",
              "25%         1.000000\n",
              "50%       222.000000\n",
              "75%       512.000000\n",
              "max       739.000000\n",
              "Name: Customer_Lifetime, dtype: float64"
            ]
          },
          "metadata": {},
          "execution_count": 25
        }
      ]
    },
    {
      "cell_type": "markdown",
      "metadata": {
        "id": "JmRTcrZGG0Gj"
      },
      "source": [
        "# **Q. Can customers be segmented into different categories ?**"
      ]
    },
    {
      "cell_type": "markdown",
      "metadata": {
        "id": "6uc6e101HBAT"
      },
      "source": [
        "## Options for customer segmentation:\n",
        "* **Total Purchases :** Total successful transactions made\n",
        "* **Monetary :**  Total money spent on all the purchases in customer life time. \n",
        "* **Purchase Interval :**  Interval b/w purchases i.e. frequency of purchase\n",
        "* **Recency :** Most recent purchase\n",
        "* **Location :** Different countries"
      ]
    },
    {
      "cell_type": "markdown",
      "metadata": {
        "id": "N631_iNGaXpf"
      },
      "source": [
        "### Total purchases Analysis"
      ]
    },
    {
      "cell_type": "code",
      "metadata": {
        "colab": {
          "base_uri": "https://localhost:8080/"
        },
        "id": "ZPxUE2BZ8EaB",
        "outputId": "ab615555-8cae-41df-a5df-2a216af14996"
      },
      "source": [
        "ctp_grp = pd.DataFrame(df.groupby('Customer ID', as_index=False)['Invoice'].nunique().sort_values(by='Invoice', ascending=False))\n",
        "ctp_grp.columns=['Customer ID', 'Total_Purchases']\n",
        "print(ctp_grp[:10])"
      ],
      "execution_count": null,
      "outputs": [
        {
          "output_type": "stream",
          "name": "stdout",
          "text": [
            "      Customer ID  Total_Purchases\n",
            "2528      14911.0              379\n",
            "399       12748.0              323\n",
            "5418      17841.0              211\n",
            "2924      15311.0              207\n",
            "737       13089.0              203\n",
            "2230      14606.0              189\n",
            "5426      17850.0              155\n",
            "1785      14156.0              151\n",
            "2270      14646.0              145\n",
            "5676      18102.0              145\n"
          ]
        }
      ]
    },
    {
      "cell_type": "markdown",
      "metadata": {
        "id": "3Z84K2rPajY5"
      },
      "source": [
        "We have top 10 buyers"
      ]
    },
    {
      "cell_type": "code",
      "metadata": {
        "colab": {
          "base_uri": "https://localhost:8080/"
        },
        "id": "SvvzX-SdcIyG",
        "outputId": "a34f9e29-c658-4121-be76-3062b3650b0b"
      },
      "source": [
        "print(ctp_grp['Total_Purchases'].describe())"
      ],
      "execution_count": null,
      "outputs": [
        {
          "output_type": "stream",
          "name": "stdout",
          "text": [
            "count    5862.000000\n",
            "mean        6.255544\n",
            "std        12.810759\n",
            "min         1.000000\n",
            "25%         1.000000\n",
            "50%         3.000000\n",
            "75%         7.000000\n",
            "max       379.000000\n",
            "Name: Total_Purchases, dtype: float64\n"
          ]
        }
      ]
    },
    {
      "cell_type": "markdown",
      "metadata": {
        "id": "Vi6uvndTeAUM"
      },
      "source": [
        "**we can see that most of the people have visited the retail store 6 times** "
      ]
    },
    {
      "cell_type": "markdown",
      "metadata": {
        "id": "ek0P_Efpf3sz"
      },
      "source": [
        "### Monetary Analysis"
      ]
    },
    {
      "cell_type": "code",
      "metadata": {
        "colab": {
          "base_uri": "https://localhost:8080/"
        },
        "id": "-QSoSEYif2tc",
        "outputId": "bb8119b7-eb5c-48de-eeb8-c995ac77ed0c"
      },
      "source": [
        "c_rev_grp = pd.DataFrame(df.groupby('Customer ID', as_index=False)['Total_Price'].sum().sort_values(by='Total_Price', ascending=False))\n",
        "c_rev_grp.columns=['Customer ID', 'Total_Money_Paid']\n",
        "print(c_rev_grp[:10])"
      ],
      "execution_count": null,
      "outputs": [
        {
          "output_type": "stream",
          "name": "stdout",
          "text": [
            "      Customer ID  Total_Money_Paid\n",
            "5676      18102.0         580987.04\n",
            "2270      14646.0         526751.52\n",
            "1785      14156.0         305259.17\n",
            "2528      14911.0         280041.15\n",
            "5036      17450.0         244784.25\n",
            "1328      13694.0         195640.69\n",
            "5095      17511.0         172132.87\n",
            "4047      16446.0         168472.50\n",
            "4281      16684.0         147142.77\n",
            "68        12415.0         144033.37\n"
          ]
        }
      ]
    },
    {
      "cell_type": "markdown",
      "metadata": {
        "id": "SX6nJNePmtWs"
      },
      "source": [
        "Above we have top 10 money spenders"
      ]
    },
    {
      "cell_type": "code",
      "metadata": {
        "colab": {
          "base_uri": "https://localhost:8080/"
        },
        "id": "l2lkIcngnTyG",
        "outputId": "cddff163-b3ab-48cf-9aa0-695819f98d0a"
      },
      "source": [
        "print(c_rev_grp['Total_Money_Paid'].describe())"
      ],
      "execution_count": null,
      "outputs": [
        {
          "output_type": "stream",
          "name": "stdout",
          "text": [
            "count      5862.000000\n",
            "mean       2916.777987\n",
            "std       14336.969558\n",
            "min           2.950000\n",
            "25%         338.725000\n",
            "50%         855.220000\n",
            "75%        2237.032500\n",
            "max      580987.040000\n",
            "Name: Total_Money_Paid, dtype: float64\n"
          ]
        }
      ]
    },
    {
      "cell_type": "markdown",
      "metadata": {
        "id": "4g3yFNktnY2B"
      },
      "source": [
        "**From above discriptive analysis we can assume that most people spend $2916 in their life time but since the std value is high we can't conclude this and will have to remove the outliers or we can check this using plots**"
      ]
    },
    {
      "cell_type": "code",
      "metadata": {
        "colab": {
          "base_uri": "https://localhost:8080/",
          "height": 352
        },
        "id": "c-8TSdx8sDVc",
        "outputId": "1a0a7eca-18c0-4c85-9b3e-6c37dd5ae7ff"
      },
      "source": [
        "plt.title('Total_Money_Spent')\n",
        "sns.distplot(x=c_rev_grp['Customer ID'], color='green')\n",
        "plt.tight_layout(pad=1)\n",
        "plt.show()"
      ],
      "execution_count": null,
      "outputs": [
        {
          "output_type": "stream",
          "name": "stderr",
          "text": [
            "/usr/local/lib/python3.7/dist-packages/seaborn/distributions.py:2619: FutureWarning: `distplot` is a deprecated function and will be removed in a future version. Please adapt your code to use either `displot` (a figure-level function with similar flexibility) or `histplot` (an axes-level function for histograms).\n",
            "  warnings.warn(msg, FutureWarning)\n"
          ]
        },
        {
          "output_type": "display_data",
          "data": {
            "image/png": "[encoded data removed]",
            "text/plain": [
              "<Figure size 432x288 with 1 Axes>"
            ]
          },
          "metadata": {}
        }
      ]
    },
    {
      "cell_type": "code",
      "metadata": {
        "id": "UmOSTXLBVyEe"
      },
      "source": [
        ""
      ],
      "execution_count": null,
      "outputs": []
    },
    {
      "cell_type": "markdown",
      "metadata": {
        "id": "V7asks2C6KS3"
      },
      "source": [
        "### Purchase Interval Analysis"
      ]
    },
    {
      "cell_type": "code",
      "metadata": {
        "colab": {
          "base_uri": "https://localhost:8080/",
          "height": 423
        },
        "id": "XwC2H4ZghEck",
        "outputId": "42859596-6a4a-4eda-ae78-919d642483f7"
      },
      "source": [
        "f_grp = pd.concat([cl_grp, ctp_grp], axis=1)\n",
        "f_grp = f_grp.loc[:, ~f_grp.columns.duplicated()]\n",
        "f_grp['Purchase_Interval'] = f_grp['Customer_Lifetime'] / f_grp['Total_Purchases']\n",
        "f_grp = f_grp[['Customer ID','Purchase_Interval']].sort_values(by='Purchase_Interval', ascending = False)\n",
        "f_grp[f_grp['Purchase_Interval']>100]"
      ],
      "execution_count": null,
      "outputs": [
        {
          "output_type": "execute_result",
          "data": {
            "text/html": [
              "<div>\n",
              "<style scoped>\n",
              "    .dataframe tbody tr th:only-of-type {\n",
              "        vertical-align: middle;\n",
              "    }\n",
              "\n",
              "    .dataframe tbody tr th {\n",
              "        vertical-align: top;\n",
              "    }\n",
              "\n",
              "    .dataframe thead th {\n",
              "        text-align: right;\n",
              "    }\n",
              "</style>\n",
              "<table border=\"1\" class=\"dataframe\">\n",
              "  <thead>\n",
              "    <tr style=\"text-align: right;\">\n",
              "      <th></th>\n",
              "      <th>Customer ID</th>\n",
              "      <th>Purchase_Interval</th>\n",
              "    </tr>\n",
              "  </thead>\n",
              "  <tbody>\n",
              "    <tr>\n",
              "      <th>2729</th>\n",
              "      <td>15115.0</td>\n",
              "      <td>357.500000</td>\n",
              "    </tr>\n",
              "    <tr>\n",
              "      <th>739</th>\n",
              "      <td>13091.0</td>\n",
              "      <td>351.000000</td>\n",
              "    </tr>\n",
              "    <tr>\n",
              "      <th>2568</th>\n",
              "      <td>14954.0</td>\n",
              "      <td>345.500000</td>\n",
              "    </tr>\n",
              "    <tr>\n",
              "      <th>3731</th>\n",
              "      <td>16127.0</td>\n",
              "      <td>344.000000</td>\n",
              "    </tr>\n",
              "    <tr>\n",
              "      <th>2421</th>\n",
              "      <td>14799.0</td>\n",
              "      <td>343.500000</td>\n",
              "    </tr>\n",
              "    <tr>\n",
              "      <th>...</th>\n",
              "      <td>...</td>\n",
              "      <td>...</td>\n",
              "    </tr>\n",
              "    <tr>\n",
              "      <th>567</th>\n",
              "      <td>12917.0</td>\n",
              "      <td>100.500000</td>\n",
              "    </tr>\n",
              "    <tr>\n",
              "      <th>2087</th>\n",
              "      <td>14463.0</td>\n",
              "      <td>100.500000</td>\n",
              "    </tr>\n",
              "    <tr>\n",
              "      <th>4482</th>\n",
              "      <td>16888.0</td>\n",
              "      <td>100.333333</td>\n",
              "    </tr>\n",
              "    <tr>\n",
              "      <th>4685</th>\n",
              "      <td>17095.0</td>\n",
              "      <td>100.285714</td>\n",
              "    </tr>\n",
              "    <tr>\n",
              "      <th>930</th>\n",
              "      <td>13285.0</td>\n",
              "      <td>100.166667</td>\n",
              "    </tr>\n",
              "  </tbody>\n",
              "</table>\n",
              "<p>961 rows × 2 columns</p>\n",
              "</div>"
            ],
            "text/plain": [
              "      Customer ID  Purchase_Interval\n",
              "2729      15115.0         357.500000\n",
              "739       13091.0         351.000000\n",
              "2568      14954.0         345.500000\n",
              "3731      16127.0         344.000000\n",
              "2421      14799.0         343.500000\n",
              "...           ...                ...\n",
              "567       12917.0         100.500000\n",
              "2087      14463.0         100.500000\n",
              "4482      16888.0         100.333333\n",
              "4685      17095.0         100.285714\n",
              "930       13285.0         100.166667\n",
              "\n",
              "[961 rows x 2 columns]"
            ]
          },
          "metadata": {},
          "execution_count": 31
        }
      ]
    },
    {
      "cell_type": "markdown",
      "metadata": {
        "id": "IJjr52OjU9lv"
      },
      "source": [
        "Above are the top 10 most frequent customers"
      ]
    },
    {
      "cell_type": "code",
      "metadata": {
        "colab": {
          "base_uri": "https://localhost:8080/"
        },
        "id": "2tDBwIDfTCMX",
        "outputId": "24fe7bc8-8d98-4bf9-b1e1-c46acba38b75"
      },
      "source": [
        "f_grp['Purchase_Interval'].describe()"
      ],
      "execution_count": null,
      "outputs": [
        {
          "output_type": "execute_result",
          "data": {
            "text/plain": [
              "count    5862.000000\n",
              "mean       50.986355\n",
              "std        55.056898\n",
              "min         0.166667\n",
              "25%         1.000000\n",
              "50%        37.303030\n",
              "75%        76.870536\n",
              "max       357.500000\n",
              "Name: Purchase_Interval, dtype: float64"
            ]
          },
          "metadata": {},
          "execution_count": 32
        }
      ]
    },
    {
      "cell_type": "markdown",
      "metadata": {
        "id": "_zRDrsDeUuBB"
      },
      "source": [
        "### Recency analysis"
      ]
    },
    {
      "cell_type": "code",
      "metadata": {
        "id": "F9WwSlc_U1IF"
      },
      "source": [
        "max_date=max(df['InvoiceDate'])+datetime.timedelta(days=1)"
      ],
      "execution_count": null,
      "outputs": []
    },
    {
      "cell_type": "code",
      "metadata": {
        "colab": {
          "base_uri": "https://localhost:8080/",
          "height": 423
        },
        "id": "UneIRKVFWv0M",
        "outputId": "01ecf434-4e25-4701-e1f0-f9d4c840bb50"
      },
      "source": [
        "rec_grp=df.groupby(['Customer ID'], as_index = False).agg({'InvoiceDate': lambda x: (max_date - x.max()).days})\n",
        "rec_grp.columns=['Customer ID', 'Recency']\n",
        "rec_grp[rec_grp.Recency > 365]"
      ],
      "execution_count": null,
      "outputs": [
        {
          "output_type": "execute_result",
          "data": {
            "text/html": [
              "<div>\n",
              "<style scoped>\n",
              "    .dataframe tbody tr th:only-of-type {\n",
              "        vertical-align: middle;\n",
              "    }\n",
              "\n",
              "    .dataframe tbody tr th {\n",
              "        vertical-align: top;\n",
              "    }\n",
              "\n",
              "    .dataframe thead th {\n",
              "        text-align: right;\n",
              "    }\n",
              "</style>\n",
              "<table border=\"1\" class=\"dataframe\">\n",
              "  <thead>\n",
              "    <tr style=\"text-align: right;\">\n",
              "      <th></th>\n",
              "      <th>Customer ID</th>\n",
              "      <th>Recency</th>\n",
              "    </tr>\n",
              "  </thead>\n",
              "  <tbody>\n",
              "    <tr>\n",
              "      <th>5</th>\n",
              "      <td>12351.0</td>\n",
              "      <td>375</td>\n",
              "    </tr>\n",
              "    <tr>\n",
              "      <th>20</th>\n",
              "      <td>12366.0</td>\n",
              "      <td>634</td>\n",
              "    </tr>\n",
              "    <tr>\n",
              "      <th>22</th>\n",
              "      <td>12368.0</td>\n",
              "      <td>628</td>\n",
              "    </tr>\n",
              "    <tr>\n",
              "      <th>23</th>\n",
              "      <td>12369.0</td>\n",
              "      <td>413</td>\n",
              "    </tr>\n",
              "    <tr>\n",
              "      <th>30</th>\n",
              "      <td>12376.0</td>\n",
              "      <td>390</td>\n",
              "    </tr>\n",
              "    <tr>\n",
              "      <th>...</th>\n",
              "      <td>...</td>\n",
              "      <td>...</td>\n",
              "    </tr>\n",
              "    <tr>\n",
              "      <th>5849</th>\n",
              "      <td>18275.0</td>\n",
              "      <td>578</td>\n",
              "    </tr>\n",
              "    <tr>\n",
              "      <th>5853</th>\n",
              "      <td>18279.0</td>\n",
              "      <td>519</td>\n",
              "    </tr>\n",
              "    <tr>\n",
              "      <th>5858</th>\n",
              "      <td>18284.0</td>\n",
              "      <td>432</td>\n",
              "    </tr>\n",
              "    <tr>\n",
              "      <th>5859</th>\n",
              "      <td>18285.0</td>\n",
              "      <td>661</td>\n",
              "    </tr>\n",
              "    <tr>\n",
              "      <th>5860</th>\n",
              "      <td>18286.0</td>\n",
              "      <td>477</td>\n",
              "    </tr>\n",
              "  </tbody>\n",
              "</table>\n",
              "<p>1596 rows × 2 columns</p>\n",
              "</div>"
            ],
            "text/plain": [
              "      Customer ID  Recency\n",
              "5         12351.0      375\n",
              "20        12366.0      634\n",
              "22        12368.0      628\n",
              "23        12369.0      413\n",
              "30        12376.0      390\n",
              "...           ...      ...\n",
              "5849      18275.0      578\n",
              "5853      18279.0      519\n",
              "5858      18284.0      432\n",
              "5859      18285.0      661\n",
              "5860      18286.0      477\n",
              "\n",
              "[1596 rows x 2 columns]"
            ]
          },
          "metadata": {},
          "execution_count": 34
        }
      ]
    },
    {
      "cell_type": "code",
      "metadata": {
        "colab": {
          "base_uri": "https://localhost:8080/"
        },
        "id": "-wtPP2RWWiKT",
        "outputId": "21b818d8-a873-48c2-97cd-bbc1810e9a45"
      },
      "source": [
        "rec_grp.Recency.describe()"
      ],
      "execution_count": null,
      "outputs": [
        {
          "output_type": "execute_result",
          "data": {
            "text/plain": [
              "count    5862.000000\n",
              "mean      200.867793\n",
              "std       209.095351\n",
              "min         1.000000\n",
              "25%        26.000000\n",
              "50%        95.500000\n",
              "75%       379.000000\n",
              "max       739.000000\n",
              "Name: Recency, dtype: float64"
            ]
          },
          "metadata": {},
          "execution_count": 35
        }
      ]
    },
    {
      "cell_type": "markdown",
      "metadata": {
        "id": "LG912DiLd-un"
      },
      "source": [
        "### Categorizing"
      ]
    },
    {
      "cell_type": "code",
      "metadata": {
        "colab": {
          "base_uri": "https://localhost:8080/",
          "height": 423
        },
        "id": "bUe8opHob39m",
        "outputId": "bdf90845-d1ca-4683-f8ad-fa78cc690ff9"
      },
      "source": [
        "l_grp = pd.concat([rec_grp, ctp_grp, c_rev_grp, f_grp], axis=1)\n",
        "l_grp = l_grp.loc[:, ~l_grp.columns.duplicated()]\n",
        "l_grp"
      ],
      "execution_count": null,
      "outputs": [
        {
          "output_type": "execute_result",
          "data": {
            "text/html": [
              "<div>\n",
              "<style scoped>\n",
              "    .dataframe tbody tr th:only-of-type {\n",
              "        vertical-align: middle;\n",
              "    }\n",
              "\n",
              "    .dataframe tbody tr th {\n",
              "        vertical-align: top;\n",
              "    }\n",
              "\n",
              "    .dataframe thead th {\n",
              "        text-align: right;\n",
              "    }\n",
              "</style>\n",
              "<table border=\"1\" class=\"dataframe\">\n",
              "  <thead>\n",
              "    <tr style=\"text-align: right;\">\n",
              "      <th></th>\n",
              "      <th>Customer ID</th>\n",
              "      <th>Recency</th>\n",
              "      <th>Total_Purchases</th>\n",
              "      <th>Total_Money_Paid</th>\n",
              "      <th>Purchase_Interval</th>\n",
              "    </tr>\n",
              "  </thead>\n",
              "  <tbody>\n",
              "    <tr>\n",
              "      <th>0</th>\n",
              "      <td>12346.0</td>\n",
              "      <td>326</td>\n",
              "      <td>3</td>\n",
              "      <td>77352.96</td>\n",
              "      <td>107.333333</td>\n",
              "    </tr>\n",
              "    <tr>\n",
              "      <th>1</th>\n",
              "      <td>12347.0</td>\n",
              "      <td>2</td>\n",
              "      <td>8</td>\n",
              "      <td>4921.53</td>\n",
              "      <td>50.375000</td>\n",
              "    </tr>\n",
              "    <tr>\n",
              "      <th>2</th>\n",
              "      <td>12348.0</td>\n",
              "      <td>75</td>\n",
              "      <td>5</td>\n",
              "      <td>1658.40</td>\n",
              "      <td>72.600000</td>\n",
              "    </tr>\n",
              "    <tr>\n",
              "      <th>3</th>\n",
              "      <td>12349.0</td>\n",
              "      <td>19</td>\n",
              "      <td>3</td>\n",
              "      <td>3678.69</td>\n",
              "      <td>190.333333</td>\n",
              "    </tr>\n",
              "    <tr>\n",
              "      <th>4</th>\n",
              "      <td>12350.0</td>\n",
              "      <td>310</td>\n",
              "      <td>1</td>\n",
              "      <td>294.40</td>\n",
              "      <td>1.000000</td>\n",
              "    </tr>\n",
              "    <tr>\n",
              "      <th>...</th>\n",
              "      <td>...</td>\n",
              "      <td>...</td>\n",
              "      <td>...</td>\n",
              "      <td>...</td>\n",
              "      <td>...</td>\n",
              "    </tr>\n",
              "    <tr>\n",
              "      <th>5857</th>\n",
              "      <td>18283.0</td>\n",
              "      <td>4</td>\n",
              "      <td>22</td>\n",
              "      <td>2658.95</td>\n",
              "      <td>29.772727</td>\n",
              "    </tr>\n",
              "    <tr>\n",
              "      <th>5858</th>\n",
              "      <td>18284.0</td>\n",
              "      <td>432</td>\n",
              "      <td>1</td>\n",
              "      <td>461.68</td>\n",
              "      <td>1.000000</td>\n",
              "    </tr>\n",
              "    <tr>\n",
              "      <th>5859</th>\n",
              "      <td>18285.0</td>\n",
              "      <td>661</td>\n",
              "      <td>1</td>\n",
              "      <td>427.00</td>\n",
              "      <td>1.000000</td>\n",
              "    </tr>\n",
              "    <tr>\n",
              "      <th>5860</th>\n",
              "      <td>18286.0</td>\n",
              "      <td>477</td>\n",
              "      <td>2</td>\n",
              "      <td>1296.43</td>\n",
              "      <td>124.000000</td>\n",
              "    </tr>\n",
              "    <tr>\n",
              "      <th>5861</th>\n",
              "      <td>18287.0</td>\n",
              "      <td>43</td>\n",
              "      <td>7</td>\n",
              "      <td>4182.99</td>\n",
              "      <td>75.571429</td>\n",
              "    </tr>\n",
              "  </tbody>\n",
              "</table>\n",
              "<p>5862 rows × 5 columns</p>\n",
              "</div>"
            ],
            "text/plain": [
              "      Customer ID  Recency  ...  Total_Money_Paid  Purchase_Interval\n",
              "0         12346.0      326  ...          77352.96         107.333333\n",
              "1         12347.0        2  ...           4921.53          50.375000\n",
              "2         12348.0       75  ...           1658.40          72.600000\n",
              "3         12349.0       19  ...           3678.69         190.333333\n",
              "4         12350.0      310  ...            294.40           1.000000\n",
              "...           ...      ...  ...               ...                ...\n",
              "5857      18283.0        4  ...           2658.95          29.772727\n",
              "5858      18284.0      432  ...            461.68           1.000000\n",
              "5859      18285.0      661  ...            427.00           1.000000\n",
              "5860      18286.0      477  ...           1296.43         124.000000\n",
              "5861      18287.0       43  ...           4182.99          75.571429\n",
              "\n",
              "[5862 rows x 5 columns]"
            ]
          },
          "metadata": {},
          "execution_count": 36
        }
      ]
    },
    {
      "cell_type": "code",
      "metadata": {
        "id": "z2WKNcqQqT-6"
      },
      "source": [
        "l_grp['R_score'] = pd.qcut(l_grp['Recency'],3,['3','2','1'])\n",
        "l_grp['TP_score'] = pd.qcut(l_grp['Total_Purchases'],3,['1','2','3'])\n",
        "l_grp['TMP_score'] = pd.qcut(l_grp['Total_Money_Paid'],3,['1','2','3'])\n",
        "l_grp['PI_score'] = pd.qcut(l_grp['Purchase_Interval'],3,['3','2','1'])"
      ],
      "execution_count": null,
      "outputs": []
    },
    {
      "cell_type": "code",
      "metadata": {
        "colab": {
          "base_uri": "https://localhost:8080/",
          "height": 206
        },
        "id": "-tEf-TwE8ZBT",
        "outputId": "f7ea7278-0883-4338-ffe2-8eaa09e1455c"
      },
      "source": [
        "l_grp[['R_score',\t'TP_score',\t'TMP_score',\t'PI_score']] = l_grp[['R_score',\t'TP_score',\t'TMP_score',\t'PI_score']].apply(pd.to_numeric)\n",
        "l_grp['sum_score'] = l_grp['R_score'] + l_grp.TP_score +\tl_grp.TMP_score +\tl_grp.PI_score\n",
        "l_grp.head()"
      ],
      "execution_count": null,
      "outputs": [
        {
          "output_type": "execute_result",
          "data": {
            "text/html": [
              "<div>\n",
              "<style scoped>\n",
              "    .dataframe tbody tr th:only-of-type {\n",
              "        vertical-align: middle;\n",
              "    }\n",
              "\n",
              "    .dataframe tbody tr th {\n",
              "        vertical-align: top;\n",
              "    }\n",
              "\n",
              "    .dataframe thead th {\n",
              "        text-align: right;\n",
              "    }\n",
              "</style>\n",
              "<table border=\"1\" class=\"dataframe\">\n",
              "  <thead>\n",
              "    <tr style=\"text-align: right;\">\n",
              "      <th></th>\n",
              "      <th>Customer ID</th>\n",
              "      <th>Recency</th>\n",
              "      <th>Total_Purchases</th>\n",
              "      <th>Total_Money_Paid</th>\n",
              "      <th>Purchase_Interval</th>\n",
              "      <th>R_score</th>\n",
              "      <th>TP_score</th>\n",
              "      <th>TMP_score</th>\n",
              "      <th>PI_score</th>\n",
              "      <th>sum_score</th>\n",
              "    </tr>\n",
              "  </thead>\n",
              "  <tbody>\n",
              "    <tr>\n",
              "      <th>0</th>\n",
              "      <td>12346.0</td>\n",
              "      <td>326</td>\n",
              "      <td>3</td>\n",
              "      <td>77352.96</td>\n",
              "      <td>107.333333</td>\n",
              "      <td>1</td>\n",
              "      <td>2</td>\n",
              "      <td>3</td>\n",
              "      <td>1</td>\n",
              "      <td>7</td>\n",
              "    </tr>\n",
              "    <tr>\n",
              "      <th>1</th>\n",
              "      <td>12347.0</td>\n",
              "      <td>2</td>\n",
              "      <td>8</td>\n",
              "      <td>4921.53</td>\n",
              "      <td>50.375000</td>\n",
              "      <td>3</td>\n",
              "      <td>3</td>\n",
              "      <td>3</td>\n",
              "      <td>2</td>\n",
              "      <td>11</td>\n",
              "    </tr>\n",
              "    <tr>\n",
              "      <th>2</th>\n",
              "      <td>12348.0</td>\n",
              "      <td>75</td>\n",
              "      <td>5</td>\n",
              "      <td>1658.40</td>\n",
              "      <td>72.600000</td>\n",
              "      <td>2</td>\n",
              "      <td>2</td>\n",
              "      <td>3</td>\n",
              "      <td>1</td>\n",
              "      <td>8</td>\n",
              "    </tr>\n",
              "    <tr>\n",
              "      <th>3</th>\n",
              "      <td>12349.0</td>\n",
              "      <td>19</td>\n",
              "      <td>3</td>\n",
              "      <td>3678.69</td>\n",
              "      <td>190.333333</td>\n",
              "      <td>3</td>\n",
              "      <td>2</td>\n",
              "      <td>3</td>\n",
              "      <td>1</td>\n",
              "      <td>9</td>\n",
              "    </tr>\n",
              "    <tr>\n",
              "      <th>4</th>\n",
              "      <td>12350.0</td>\n",
              "      <td>310</td>\n",
              "      <td>1</td>\n",
              "      <td>294.40</td>\n",
              "      <td>1.000000</td>\n",
              "      <td>1</td>\n",
              "      <td>1</td>\n",
              "      <td>1</td>\n",
              "      <td>3</td>\n",
              "      <td>6</td>\n",
              "    </tr>\n",
              "  </tbody>\n",
              "</table>\n",
              "</div>"
            ],
            "text/plain": [
              "   Customer ID  Recency  Total_Purchases  ...  TMP_score  PI_score  sum_score\n",
              "0      12346.0      326                3  ...          3         1          7\n",
              "1      12347.0        2                8  ...          3         2         11\n",
              "2      12348.0       75                5  ...          3         1          8\n",
              "3      12349.0       19                3  ...          3         1          9\n",
              "4      12350.0      310                1  ...          1         3          6\n",
              "\n",
              "[5 rows x 10 columns]"
            ]
          },
          "metadata": {},
          "execution_count": 38
        }
      ]
    },
    {
      "cell_type": "code",
      "metadata": {
        "id": "ZXcS5onhtJ5d"
      },
      "source": [
        "def categorize(s):\n",
        "  if(s>=9):\n",
        "    return 'Loyal'\n",
        "  elif s>=6 and s<9:\n",
        "    return 'Good' \n",
        "  elif s>=4 and s<6:\n",
        "    return 'Bad' \n",
        "\n",
        "l_grp['Category']=l_grp['sum_score'].apply(categorize)     "
      ],
      "execution_count": null,
      "outputs": []
    },
    {
      "cell_type": "code",
      "metadata": {
        "colab": {
          "base_uri": "https://localhost:8080/",
          "height": 423
        },
        "id": "G-JYm7Z6Agbw",
        "outputId": "f8564aa7-ff8a-4702-ebfd-af65c4986380"
      },
      "source": [
        "l_grp[['Customer ID','Category']]"
      ],
      "execution_count": null,
      "outputs": [
        {
          "output_type": "execute_result",
          "data": {
            "text/html": [
              "<div>\n",
              "<style scoped>\n",
              "    .dataframe tbody tr th:only-of-type {\n",
              "        vertical-align: middle;\n",
              "    }\n",
              "\n",
              "    .dataframe tbody tr th {\n",
              "        vertical-align: top;\n",
              "    }\n",
              "\n",
              "    .dataframe thead th {\n",
              "        text-align: right;\n",
              "    }\n",
              "</style>\n",
              "<table border=\"1\" class=\"dataframe\">\n",
              "  <thead>\n",
              "    <tr style=\"text-align: right;\">\n",
              "      <th></th>\n",
              "      <th>Customer ID</th>\n",
              "      <th>Category</th>\n",
              "    </tr>\n",
              "  </thead>\n",
              "  <tbody>\n",
              "    <tr>\n",
              "      <th>0</th>\n",
              "      <td>12346.0</td>\n",
              "      <td>Good</td>\n",
              "    </tr>\n",
              "    <tr>\n",
              "      <th>1</th>\n",
              "      <td>12347.0</td>\n",
              "      <td>Loyal</td>\n",
              "    </tr>\n",
              "    <tr>\n",
              "      <th>2</th>\n",
              "      <td>12348.0</td>\n",
              "      <td>Good</td>\n",
              "    </tr>\n",
              "    <tr>\n",
              "      <th>3</th>\n",
              "      <td>12349.0</td>\n",
              "      <td>Loyal</td>\n",
              "    </tr>\n",
              "    <tr>\n",
              "      <th>4</th>\n",
              "      <td>12350.0</td>\n",
              "      <td>Good</td>\n",
              "    </tr>\n",
              "    <tr>\n",
              "      <th>...</th>\n",
              "      <td>...</td>\n",
              "      <td>...</td>\n",
              "    </tr>\n",
              "    <tr>\n",
              "      <th>5857</th>\n",
              "      <td>18283.0</td>\n",
              "      <td>Loyal</td>\n",
              "    </tr>\n",
              "    <tr>\n",
              "      <th>5858</th>\n",
              "      <td>18284.0</td>\n",
              "      <td>Good</td>\n",
              "    </tr>\n",
              "    <tr>\n",
              "      <th>5859</th>\n",
              "      <td>18285.0</td>\n",
              "      <td>Good</td>\n",
              "    </tr>\n",
              "    <tr>\n",
              "      <th>5860</th>\n",
              "      <td>18286.0</td>\n",
              "      <td>Bad</td>\n",
              "    </tr>\n",
              "    <tr>\n",
              "      <th>5861</th>\n",
              "      <td>18287.0</td>\n",
              "      <td>Loyal</td>\n",
              "    </tr>\n",
              "  </tbody>\n",
              "</table>\n",
              "<p>5862 rows × 2 columns</p>\n",
              "</div>"
            ],
            "text/plain": [
              "      Customer ID Category\n",
              "0         12346.0     Good\n",
              "1         12347.0    Loyal\n",
              "2         12348.0     Good\n",
              "3         12349.0    Loyal\n",
              "4         12350.0     Good\n",
              "...           ...      ...\n",
              "5857      18283.0    Loyal\n",
              "5858      18284.0     Good\n",
              "5859      18285.0     Good\n",
              "5860      18286.0      Bad\n",
              "5861      18287.0    Loyal\n",
              "\n",
              "[5862 rows x 2 columns]"
            ]
          },
          "metadata": {},
          "execution_count": 47
        }
      ]
    },
    {
      "cell_type": "code",
      "metadata": {
        "colab": {
          "base_uri": "https://localhost:8080/",
          "height": 143
        },
        "id": "ljI6llJaAt-0",
        "outputId": "5d13e813-7bca-46f5-bbbe-238bea890373"
      },
      "source": [
        "c_count=l_grp.groupby(['Category'],as_index = False).nunique()[['Category','Customer ID']]\n",
        "c_count.columns=['Category','Count']\n",
        "c_sum = c_count.Count.sum()\n",
        "c_count['%']=c_count.Count.apply(lambda x: (x/c_sum *100).round(2))\n",
        "c_count"
      ],
      "execution_count": null,
      "outputs": [
        {
          "output_type": "execute_result",
          "data": {
            "text/html": [
              "<div>\n",
              "<style scoped>\n",
              "    .dataframe tbody tr th:only-of-type {\n",
              "        vertical-align: middle;\n",
              "    }\n",
              "\n",
              "    .dataframe tbody tr th {\n",
              "        vertical-align: top;\n",
              "    }\n",
              "\n",
              "    .dataframe thead th {\n",
              "        text-align: right;\n",
              "    }\n",
              "</style>\n",
              "<table border=\"1\" class=\"dataframe\">\n",
              "  <thead>\n",
              "    <tr style=\"text-align: right;\">\n",
              "      <th></th>\n",
              "      <th>Category</th>\n",
              "      <th>Count</th>\n",
              "      <th>%</th>\n",
              "    </tr>\n",
              "  </thead>\n",
              "  <tbody>\n",
              "    <tr>\n",
              "      <th>0</th>\n",
              "      <td>Bad</td>\n",
              "      <td>330</td>\n",
              "      <td>5.63</td>\n",
              "    </tr>\n",
              "    <tr>\n",
              "      <th>1</th>\n",
              "      <td>Good</td>\n",
              "      <td>3502</td>\n",
              "      <td>59.74</td>\n",
              "    </tr>\n",
              "    <tr>\n",
              "      <th>2</th>\n",
              "      <td>Loyal</td>\n",
              "      <td>2030</td>\n",
              "      <td>34.63</td>\n",
              "    </tr>\n",
              "  </tbody>\n",
              "</table>\n",
              "</div>"
            ],
            "text/plain": [
              "  Category  Count      %\n",
              "0      Bad    330   5.63\n",
              "1     Good   3502  59.74\n",
              "2    Loyal   2030  34.63"
            ]
          },
          "metadata": {},
          "execution_count": 48
        }
      ]
    },
    {
      "cell_type": "markdown",
      "metadata": {
        "id": "oL0YhgXgKUBb"
      },
      "source": [
        "# **Q. Which Customer is Loyal?**"
      ]
    },
    {
      "cell_type": "markdown",
      "metadata": {
        "id": "v5Qd0X0n6gP1"
      },
      "source": [
        "### Their can be 2 types of customers:\n",
        "\n",
        "* **Type 1**: A coustomer who buys frequently from shop\n",
        "* **Type 2**: A coustomer who buys less frequently but spends more than avg. at every purchase\n",
        " \n",
        "**A loyal custromer would fall in the type 1 category**"
      ]
    },
    {
      "cell_type": "code",
      "metadata": {
        "id": "TzES9gGwemEN",
        "colab": {
          "base_uri": "https://localhost:8080/",
          "height": 423
        },
        "outputId": "37bf0dce-b866-413d-e7ed-800a45330b00"
      },
      "source": [
        "l_grp[l_grp.Category == 'Loyal'][['Customer ID','Category']]"
      ],
      "execution_count": null,
      "outputs": [
        {
          "output_type": "execute_result",
          "data": {
            "text/html": [
              "<div>\n",
              "<style scoped>\n",
              "    .dataframe tbody tr th:only-of-type {\n",
              "        vertical-align: middle;\n",
              "    }\n",
              "\n",
              "    .dataframe tbody tr th {\n",
              "        vertical-align: top;\n",
              "    }\n",
              "\n",
              "    .dataframe thead th {\n",
              "        text-align: right;\n",
              "    }\n",
              "</style>\n",
              "<table border=\"1\" class=\"dataframe\">\n",
              "  <thead>\n",
              "    <tr style=\"text-align: right;\">\n",
              "      <th></th>\n",
              "      <th>Customer ID</th>\n",
              "      <th>Category</th>\n",
              "    </tr>\n",
              "  </thead>\n",
              "  <tbody>\n",
              "    <tr>\n",
              "      <th>1</th>\n",
              "      <td>12347.0</td>\n",
              "      <td>Loyal</td>\n",
              "    </tr>\n",
              "    <tr>\n",
              "      <th>3</th>\n",
              "      <td>12349.0</td>\n",
              "      <td>Loyal</td>\n",
              "    </tr>\n",
              "    <tr>\n",
              "      <th>6</th>\n",
              "      <td>12352.0</td>\n",
              "      <td>Loyal</td>\n",
              "    </tr>\n",
              "    <tr>\n",
              "      <th>10</th>\n",
              "      <td>12356.0</td>\n",
              "      <td>Loyal</td>\n",
              "    </tr>\n",
              "    <tr>\n",
              "      <th>12</th>\n",
              "      <td>12358.0</td>\n",
              "      <td>Loyal</td>\n",
              "    </tr>\n",
              "    <tr>\n",
              "      <th>...</th>\n",
              "      <td>...</td>\n",
              "      <td>...</td>\n",
              "    </tr>\n",
              "    <tr>\n",
              "      <th>5834</th>\n",
              "      <td>18260.0</td>\n",
              "      <td>Loyal</td>\n",
              "    </tr>\n",
              "    <tr>\n",
              "      <th>5846</th>\n",
              "      <td>18272.0</td>\n",
              "      <td>Loyal</td>\n",
              "    </tr>\n",
              "    <tr>\n",
              "      <th>5850</th>\n",
              "      <td>18276.0</td>\n",
              "      <td>Loyal</td>\n",
              "    </tr>\n",
              "    <tr>\n",
              "      <th>5857</th>\n",
              "      <td>18283.0</td>\n",
              "      <td>Loyal</td>\n",
              "    </tr>\n",
              "    <tr>\n",
              "      <th>5861</th>\n",
              "      <td>18287.0</td>\n",
              "      <td>Loyal</td>\n",
              "    </tr>\n",
              "  </tbody>\n",
              "</table>\n",
              "<p>2030 rows × 2 columns</p>\n",
              "</div>"
            ],
            "text/plain": [
              "      Customer ID Category\n",
              "1         12347.0    Loyal\n",
              "3         12349.0    Loyal\n",
              "6         12352.0    Loyal\n",
              "10        12356.0    Loyal\n",
              "12        12358.0    Loyal\n",
              "...           ...      ...\n",
              "5834      18260.0    Loyal\n",
              "5846      18272.0    Loyal\n",
              "5850      18276.0    Loyal\n",
              "5857      18283.0    Loyal\n",
              "5861      18287.0    Loyal\n",
              "\n",
              "[2030 rows x 2 columns]"
            ]
          },
          "metadata": {},
          "execution_count": 50
        }
      ]
    },
    {
      "cell_type": "markdown",
      "metadata": {
        "id": "GqHaK1TTiL8l"
      },
      "source": [
        "Group of loyal customers"
      ]
    },
    {
      "cell_type": "markdown",
      "metadata": {
        "id": "MYCKPRzD5Bh1"
      },
      "source": [
        "# **Q. What is the most popular time of year based on this sales data?**\n"
      ]
    },
    {
      "cell_type": "code",
      "metadata": {
        "id": "q4ULBxxhFXWZ",
        "colab": {
          "base_uri": "https://localhost:8080/"
        },
        "outputId": "8015b038-cf0d-4d41-d5f5-1d758ab56ab8"
      },
      "source": [
        "dct_df = df[df.StockCode == 'D']\n",
        "wdct_df = df[df.StockCode !='D']\n",
        "print(df.shape, dct_df.shape, wdct_df.shape)"
      ],
      "execution_count": null,
      "outputs": [
        {
          "output_type": "stream",
          "name": "stdout",
          "text": [
            "(776931, 12) (5, 12) (776926, 12)\n"
          ]
        }
      ]
    },
    {
      "cell_type": "code",
      "metadata": {
        "id": "n4e9gqkHZBSQ",
        "colab": {
          "base_uri": "https://localhost:8080/",
          "height": 700
        },
        "outputId": "3eff5f4d-701a-41de-c2da-5bc371019c06"
      },
      "source": [
        "def compare_plot(feature):\n",
        "    plt.figure(figsize=(20,5))\n",
        "   ##########################################################\n",
        "    plt.subplot(131)\n",
        "    plt.title('Purchases')\n",
        "    sns.countplot(x=df[feature], data=df, palette='Wistia')\n",
        "   ##########################################################\n",
        "    plt.subplot(132)\n",
        "    plt.title('Discounts')\n",
        "    sns.countplot(x=dct_df[feature], data=dct_df, palette='Greens')\n",
        "   ##########################################################\n",
        "    plt.subplot(133)\n",
        "    plt.title('Quantity sold')\n",
        "    sns.lineplot(x=df[feature], y='Quantity', data=df, color='red')\n",
        "   ##########################################################\n",
        "    plt.tight_layout(pad=1)\n",
        "    plt.show()\n",
        "compare_plot(\"Inv_Month\")\n",
        "compare_plot(\"Inv_Hour\")"
      ],
      "execution_count": null,
      "outputs": [
        {
          "output_type": "display_data",
          "data": {
            "image/png": "[encoded data removed]",
            "text/plain": [
              "<Figure size 1440x360 with 3 Axes>"
            ]
          },
          "metadata": {}
        },
        {
          "output_type": "display_data",
          "data": {
            "image/png": "[encoded data removed]",
            "text/plain": [
              "<Figure size 1440x360 with 3 Axes>"
            ]
          },
          "metadata": {}
        }
      ]
    },
    {
      "cell_type": "code",
      "metadata": {
        "id": "mZPHf507s4pd",
        "colab": {
          "base_uri": "https://localhost:8080/",
          "height": 300
        },
        "outputId": "87d081db-12dc-4176-c59a-9299d6821b7a"
      },
      "source": [
        "df[['Inv_Month', 'Inv_Hour']].describe()"
      ],
      "execution_count": null,
      "outputs": [
        {
          "output_type": "execute_result",
          "data": {
            "text/html": [
              "<div>\n",
              "<style scoped>\n",
              "    .dataframe tbody tr th:only-of-type {\n",
              "        vertical-align: middle;\n",
              "    }\n",
              "\n",
              "    .dataframe tbody tr th {\n",
              "        vertical-align: top;\n",
              "    }\n",
              "\n",
              "    .dataframe thead th {\n",
              "        text-align: right;\n",
              "    }\n",
              "</style>\n",
              "<table border=\"1\" class=\"dataframe\">\n",
              "  <thead>\n",
              "    <tr style=\"text-align: right;\">\n",
              "      <th></th>\n",
              "      <th>Inv_Month</th>\n",
              "      <th>Inv_Hour</th>\n",
              "    </tr>\n",
              "  </thead>\n",
              "  <tbody>\n",
              "    <tr>\n",
              "      <th>count</th>\n",
              "      <td>776931.000000</td>\n",
              "      <td>776931.000000</td>\n",
              "    </tr>\n",
              "    <tr>\n",
              "      <th>mean</th>\n",
              "      <td>7.417814</td>\n",
              "      <td>12.793181</td>\n",
              "    </tr>\n",
              "    <tr>\n",
              "      <th>std</th>\n",
              "      <td>3.422257</td>\n",
              "      <td>2.293767</td>\n",
              "    </tr>\n",
              "    <tr>\n",
              "      <th>min</th>\n",
              "      <td>1.000000</td>\n",
              "      <td>6.000000</td>\n",
              "    </tr>\n",
              "    <tr>\n",
              "      <th>25%</th>\n",
              "      <td>5.000000</td>\n",
              "      <td>11.000000</td>\n",
              "    </tr>\n",
              "    <tr>\n",
              "      <th>50%</th>\n",
              "      <td>8.000000</td>\n",
              "      <td>13.000000</td>\n",
              "    </tr>\n",
              "    <tr>\n",
              "      <th>75%</th>\n",
              "      <td>11.000000</td>\n",
              "      <td>14.000000</td>\n",
              "    </tr>\n",
              "    <tr>\n",
              "      <th>max</th>\n",
              "      <td>12.000000</td>\n",
              "      <td>20.000000</td>\n",
              "    </tr>\n",
              "  </tbody>\n",
              "</table>\n",
              "</div>"
            ],
            "text/plain": [
              "           Inv_Month       Inv_Hour\n",
              "count  776931.000000  776931.000000\n",
              "mean        7.417814      12.793181\n",
              "std         3.422257       2.293767\n",
              "min         1.000000       6.000000\n",
              "25%         5.000000      11.000000\n",
              "50%         8.000000      13.000000\n",
              "75%        11.000000      14.000000\n",
              "max        12.000000      20.000000"
            ]
          },
          "metadata": {},
          "execution_count": 45
        }
      ]
    },
    {
      "cell_type": "markdown",
      "metadata": {
        "id": "-XqIDZGroErn"
      },
      "source": [
        "**Monthly Analysis:**\n",
        "* Based on above observations **purchases increase at the end of the year** :\n",
        " * **Highest** : **November**\n",
        " * **High** : **[September** to **December]** \n",
        " * **Low** : **[January** to **February]**\n",
        " * **Lowest** : **January**\n",
        "* While number of quantities purchased at a time are:\n",
        " * **Highest** : **August**\n",
        " * **Lowest** : **November**\n",
        "\n",
        "**NOTE** : In month of Nov. the number of sales are high but number of quantities bought are less\n",
        "\n",
        "**Hourly Analysis:**\n",
        "* Based on above observations **purchases start increasing from 8am till 12 Noon and then decrease till 7pm** :\n",
        " * **Highest** : **12pm**\n",
        " * **Very Low** : **6am, 7am, 8pm**\n",
        "* While number of quantities purchased at a time are **high in Morning**:\n",
        " * **Highest** : **7am**\n",
        " * **Lowest** : **12pm - 2pm**\n"
      ]
    },
    {
      "cell_type": "markdown",
      "metadata": {
        "id": "RvUKEj5x5EYQ"
      },
      "source": [
        "# **Q. Is there any seasonality in data? Explain with supportive evidence.**\n"
      ]
    },
    {
      "cell_type": "code",
      "metadata": {
        "id": "3MKZx_8L57Qd"
      },
      "source": [
        "\n"
      ],
      "execution_count": null,
      "outputs": []
    },
    {
      "cell_type": "code",
      "metadata": {
        "id": "op36Pd33575B"
      },
      "source": [
        "\n"
      ],
      "execution_count": null,
      "outputs": []
    },
    {
      "cell_type": "code",
      "metadata": {
        "id": "4_Ma50nc5FQ-"
      },
      "source": [
        "\n"
      ],
      "execution_count": null,
      "outputs": []
    }
  ]
}